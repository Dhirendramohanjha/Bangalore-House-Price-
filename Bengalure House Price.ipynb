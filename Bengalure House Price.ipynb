{
 "cells": [
  {
   "cell_type": "code",
   "execution_count": 131,
   "metadata": {},
   "outputs": [],
   "source": [
    "import pandas as pd\n",
    "import numpy as np\n",
    "\n",
    "import matplotlib.pyplot as plt\n",
    "%matplotlib inline\n",
    "import seaborn as sns"
   ]
  },
  {
   "cell_type": "code",
   "execution_count": 244,
   "metadata": {},
   "outputs": [],
   "source": [
    "pd.set_option('display.max_row',5000)"
   ]
  },
  {
   "cell_type": "code",
   "execution_count": 133,
   "metadata": {},
   "outputs": [],
   "source": [
    "train_data = pd.read_csv(\"D:/Second_Sem/Second_Sem/Self_Prac/MachineHack/houseprice/Predicting-House-Prices-In-Bengaluru-Train-Data.csv\")"
   ]
  },
  {
   "cell_type": "code",
   "execution_count": 134,
   "metadata": {},
   "outputs": [],
   "source": [
    "test_data = pd.read_csv(\"D:/Second_Sem/Second_Sem/Self_Prac/MachineHack/houseprice/Predicting-House-Prices-In-Bengaluru-Test-Data.csv\")"
   ]
  },
  {
   "cell_type": "code",
   "execution_count": 135,
   "metadata": {},
   "outputs": [
    {
     "data": {
      "text/html": [
       "<div>\n",
       "<style scoped>\n",
       "    .dataframe tbody tr th:only-of-type {\n",
       "        vertical-align: middle;\n",
       "    }\n",
       "\n",
       "    .dataframe tbody tr th {\n",
       "        vertical-align: top;\n",
       "    }\n",
       "\n",
       "    .dataframe thead th {\n",
       "        text-align: right;\n",
       "    }\n",
       "</style>\n",
       "<table border=\"1\" class=\"dataframe\">\n",
       "  <thead>\n",
       "    <tr style=\"text-align: right;\">\n",
       "      <th></th>\n",
       "      <th>area_type</th>\n",
       "      <th>availability</th>\n",
       "      <th>location</th>\n",
       "      <th>size</th>\n",
       "      <th>society</th>\n",
       "      <th>total_sqft</th>\n",
       "      <th>bath</th>\n",
       "      <th>balcony</th>\n",
       "      <th>price</th>\n",
       "    </tr>\n",
       "  </thead>\n",
       "  <tbody>\n",
       "    <tr>\n",
       "      <th>0</th>\n",
       "      <td>Super built-up  Area</td>\n",
       "      <td>19-Dec</td>\n",
       "      <td>Electronic City Phase II</td>\n",
       "      <td>2 BHK</td>\n",
       "      <td>Coomee</td>\n",
       "      <td>1056</td>\n",
       "      <td>2.0</td>\n",
       "      <td>1.0</td>\n",
       "      <td>39.07</td>\n",
       "    </tr>\n",
       "    <tr>\n",
       "      <th>1</th>\n",
       "      <td>Plot  Area</td>\n",
       "      <td>Ready To Move</td>\n",
       "      <td>Chikka Tirupathi</td>\n",
       "      <td>4 Bedroom</td>\n",
       "      <td>Theanmp</td>\n",
       "      <td>2600</td>\n",
       "      <td>5.0</td>\n",
       "      <td>3.0</td>\n",
       "      <td>120.00</td>\n",
       "    </tr>\n",
       "    <tr>\n",
       "      <th>2</th>\n",
       "      <td>Built-up  Area</td>\n",
       "      <td>Ready To Move</td>\n",
       "      <td>Uttarahalli</td>\n",
       "      <td>3 BHK</td>\n",
       "      <td>NaN</td>\n",
       "      <td>1440</td>\n",
       "      <td>2.0</td>\n",
       "      <td>3.0</td>\n",
       "      <td>62.00</td>\n",
       "    </tr>\n",
       "    <tr>\n",
       "      <th>3</th>\n",
       "      <td>Super built-up  Area</td>\n",
       "      <td>Ready To Move</td>\n",
       "      <td>Lingadheeranahalli</td>\n",
       "      <td>3 BHK</td>\n",
       "      <td>Soiewre</td>\n",
       "      <td>1521</td>\n",
       "      <td>3.0</td>\n",
       "      <td>1.0</td>\n",
       "      <td>95.00</td>\n",
       "    </tr>\n",
       "    <tr>\n",
       "      <th>4</th>\n",
       "      <td>Super built-up  Area</td>\n",
       "      <td>Ready To Move</td>\n",
       "      <td>Kothanur</td>\n",
       "      <td>2 BHK</td>\n",
       "      <td>NaN</td>\n",
       "      <td>1200</td>\n",
       "      <td>2.0</td>\n",
       "      <td>1.0</td>\n",
       "      <td>51.00</td>\n",
       "    </tr>\n",
       "  </tbody>\n",
       "</table>\n",
       "</div>"
      ],
      "text/plain": [
       "              area_type   availability                  location       size  \\\n",
       "0  Super built-up  Area         19-Dec  Electronic City Phase II      2 BHK   \n",
       "1            Plot  Area  Ready To Move          Chikka Tirupathi  4 Bedroom   \n",
       "2        Built-up  Area  Ready To Move               Uttarahalli      3 BHK   \n",
       "3  Super built-up  Area  Ready To Move        Lingadheeranahalli      3 BHK   \n",
       "4  Super built-up  Area  Ready To Move                  Kothanur      2 BHK   \n",
       "\n",
       "   society total_sqft  bath  balcony   price  \n",
       "0  Coomee        1056   2.0      1.0   39.07  \n",
       "1  Theanmp       2600   5.0      3.0  120.00  \n",
       "2      NaN       1440   2.0      3.0   62.00  \n",
       "3  Soiewre       1521   3.0      1.0   95.00  \n",
       "4      NaN       1200   2.0      1.0   51.00  "
      ]
     },
     "execution_count": 135,
     "metadata": {},
     "output_type": "execute_result"
    }
   ],
   "source": [
    "train_data.head()"
   ]
  },
  {
   "cell_type": "code",
   "execution_count": 136,
   "metadata": {},
   "outputs": [
    {
     "data": {
      "text/plain": [
       "Super built-up  Area    8790\n",
       "Built-up  Area          2418\n",
       "Plot  Area              2025\n",
       "Carpet  Area              87\n",
       "Name: area_type, dtype: int64"
      ]
     },
     "execution_count": 136,
     "metadata": {},
     "output_type": "execute_result"
    }
   ],
   "source": [
    "train_data['area_type'].value_counts()"
   ]
  },
  {
   "cell_type": "code",
   "execution_count": 138,
   "metadata": {},
   "outputs": [],
   "source": [
    "#train_data['society'].value_counts()"
   ]
  },
  {
   "cell_type": "code",
   "execution_count": 139,
   "metadata": {},
   "outputs": [
    {
     "data": {
      "text/plain": [
       "area_type          0\n",
       "availability       0\n",
       "location           1\n",
       "size              16\n",
       "society         5502\n",
       "total_sqft         0\n",
       "bath              73\n",
       "balcony          609\n",
       "price              0\n",
       "dtype: int64"
      ]
     },
     "execution_count": 139,
     "metadata": {},
     "output_type": "execute_result"
    }
   ],
   "source": [
    "train_data.isnull().sum()"
   ]
  },
  {
   "cell_type": "code",
   "execution_count": 140,
   "metadata": {},
   "outputs": [],
   "source": [
    "train_data['size'] = train_data['size'].str.replace('[^0-9]',' ')"
   ]
  },
  {
   "cell_type": "code",
   "execution_count": 141,
   "metadata": {},
   "outputs": [
    {
     "data": {
      "text/html": [
       "<div>\n",
       "<style scoped>\n",
       "    .dataframe tbody tr th:only-of-type {\n",
       "        vertical-align: middle;\n",
       "    }\n",
       "\n",
       "    .dataframe tbody tr th {\n",
       "        vertical-align: top;\n",
       "    }\n",
       "\n",
       "    .dataframe thead th {\n",
       "        text-align: right;\n",
       "    }\n",
       "</style>\n",
       "<table border=\"1\" class=\"dataframe\">\n",
       "  <thead>\n",
       "    <tr style=\"text-align: right;\">\n",
       "      <th></th>\n",
       "      <th>area_type</th>\n",
       "      <th>availability</th>\n",
       "      <th>location</th>\n",
       "      <th>size</th>\n",
       "      <th>society</th>\n",
       "      <th>total_sqft</th>\n",
       "      <th>bath</th>\n",
       "      <th>balcony</th>\n",
       "      <th>price</th>\n",
       "    </tr>\n",
       "  </thead>\n",
       "  <tbody>\n",
       "    <tr>\n",
       "      <th>0</th>\n",
       "      <td>Super built-up  Area</td>\n",
       "      <td>19-Dec</td>\n",
       "      <td>Electronic City Phase II</td>\n",
       "      <td>2</td>\n",
       "      <td>Coomee</td>\n",
       "      <td>1056</td>\n",
       "      <td>2.0</td>\n",
       "      <td>1.0</td>\n",
       "      <td>39.07</td>\n",
       "    </tr>\n",
       "    <tr>\n",
       "      <th>1</th>\n",
       "      <td>Plot  Area</td>\n",
       "      <td>Ready To Move</td>\n",
       "      <td>Chikka Tirupathi</td>\n",
       "      <td>4</td>\n",
       "      <td>Theanmp</td>\n",
       "      <td>2600</td>\n",
       "      <td>5.0</td>\n",
       "      <td>3.0</td>\n",
       "      <td>120.00</td>\n",
       "    </tr>\n",
       "  </tbody>\n",
       "</table>\n",
       "</div>"
      ],
      "text/plain": [
       "              area_type   availability                  location       size  \\\n",
       "0  Super built-up  Area         19-Dec  Electronic City Phase II      2       \n",
       "1            Plot  Area  Ready To Move          Chikka Tirupathi  4           \n",
       "\n",
       "   society total_sqft  bath  balcony   price  \n",
       "0  Coomee        1056   2.0      1.0   39.07  \n",
       "1  Theanmp       2600   5.0      3.0  120.00  "
      ]
     },
     "execution_count": 141,
     "metadata": {},
     "output_type": "execute_result"
    }
   ],
   "source": [
    "train_data.head(2)"
   ]
  },
  {
   "cell_type": "code",
   "execution_count": 142,
   "metadata": {},
   "outputs": [
    {
     "data": {
      "text/plain": [
       "area_type        object\n",
       "availability     object\n",
       "location         object\n",
       "size             object\n",
       "society          object\n",
       "total_sqft       object\n",
       "bath            float64\n",
       "balcony         float64\n",
       "price           float64\n",
       "dtype: object"
      ]
     },
     "execution_count": 142,
     "metadata": {},
     "output_type": "execute_result"
    }
   ],
   "source": [
    "train_data.dtypes"
   ]
  },
  {
   "cell_type": "code",
   "execution_count": 143,
   "metadata": {
    "scrolled": false
   },
   "outputs": [
    {
     "data": {
      "text/plain": [
       "1200              843\n",
       "1100              221\n",
       "1500              205\n",
       "2400              196\n",
       "600               180\n",
       "1000              172\n",
       "1350              133\n",
       "1050              123\n",
       "1300              117\n",
       "1250              114\n",
       "900               112\n",
       "1400              108\n",
       "1800              104\n",
       "1150              101\n",
       "1600              101\n",
       "1140               91\n",
       "2000               83\n",
       "1450               70\n",
       "1650               69\n",
       "800                67\n",
       "3000               66\n",
       "1075               66\n",
       "1020               63\n",
       "2500               62\n",
       "1125               60\n",
       "1550               60\n",
       "1160               60\n",
       "950                59\n",
       "1180               58\n",
       "1700               58\n",
       "                 ... \n",
       "1000 - 1285         1\n",
       "615 - 985           1\n",
       "2710 - 3360         1\n",
       "1989                1\n",
       "1316                1\n",
       "2363                1\n",
       "888 - 1290          1\n",
       "616                 1\n",
       "1502                1\n",
       "638                 1\n",
       "2758                1\n",
       "763 - 805           1\n",
       "3770                1\n",
       "2173                1\n",
       "2501                1\n",
       "2328                1\n",
       "2386                1\n",
       "2251                1\n",
       "1100Sq. Meter       1\n",
       "1642                1\n",
       "133.3Sq. Yards      1\n",
       "3532                1\n",
       "2380                1\n",
       "2736                1\n",
       "2885                1\n",
       "1193                1\n",
       "2041 - 2090         1\n",
       "2274.24             1\n",
       "1646                1\n",
       "1451.5              1\n",
       "Name: total_sqft, Length: 2117, dtype: int64"
      ]
     },
     "execution_count": 143,
     "metadata": {},
     "output_type": "execute_result"
    }
   ],
   "source": [
    "train_data['total_sqft'].value_counts()"
   ]
  },
  {
   "cell_type": "code",
   "execution_count": 144,
   "metadata": {},
   "outputs": [],
   "source": [
    "train_data['total_sqft']=train_data['total_sqft'].replace({'2830 - 2882':2856,'2249.81 - 4112.19':3181,'1200 - 2400':1800,'3630 - 3800':3715,'4000 - 5249':4624.5,\n",
    "                                 '524 - 894':709,'613 - 648':630.5,'1804 - 2273':2038.5,'1390 - 1600':1495,'1115 - 1130':1122.5,'1365 - 1700':1532.5,\n",
    "                                 '1255 - 1350':1302.5,'2580 - 2591':2585.5,'645 - 936':790.5,'142.61Sq. Meter':1535,'1430 - 1630':1530,'620 - 934':777,\n",
    "                                 '1618 - 1929':1773.5,'381 - 535':458,'1200 - 1800':1500,'3300 - 3335':3317.5,'1446 - 1506':1476,'1410 - 1710':1560,\n",
    "                                 '850 - 1060':955,'4260 - 4408':4334,'596 - 804':700,'1210 - 1477':1343.5,'1020 - 1130':1075,'1079 - 1183':1131,\n",
    "                                                          '716Sq. Meter':7706,'3425 -3435':3430,'3307 - 3464':3338,'500Sq. Yards':4500,'4500 - 5540':5020,\n",
    "                                                          '1000 -1204':1102,'6Acres':261360,'1270 - 1275':1272,'706 - 716':711,'1120 - 1145':1132,'1310 - 1615':1462,\n",
    "                                                          '1450 - 1950':1700,'1650 - 2538':2094,'1783 - 1878':1830,'1500Cents':653400,'132Sq. Yards':1188,'1450 - 1595':1522,\n",
    "                                                          '1005.03 - 1252.49':1129, '1564 - 1850':1707,'45Sq. Yards':405,'670 - 980':825,'1482 -1684':1583,'1500 - 2400':1950,'5666 - 5669':5667,\n",
    "                                                          '633 - 666':650,'1437 - 1629':1533,'1125 - 1500':1312,'4000 - 4450':4225,'4400 - 6640':5520,'3884 - 3550':3517,'315Sq. yards':2835,\n",
    "                                                          '4050 - 4075':4062,'870 - 1080':975,'1200 - 1470':1335,'700 - 900':800,'1.26Acres':54885.6,'3010 - 3410':3210,'1660 - 1805':1732,\n",
    "                                                          '300Sq. Yards':3240,'3450 - 3472':3461,'117Sq. Yards':1053,'1469 - 1766':1617,'1255 - 1863':1559,'610 - 615':612,'2Acres':87120,\n",
    "                                                          '763 - 805':784,'2041 - 2090':2065,'2957 - 3450':3203,'697Sq. Meter':7502,'1574Sq. Yards':14166})"
   ]
  },
  {
   "cell_type": "code",
   "execution_count": 145,
   "metadata": {},
   "outputs": [],
   "source": [
    "train_data['total_sqft'] = train_data['total_sqft'].replace({'1482 - 1846':1664,'188.89Sq. Yards':1700,'2725 - 3250':2987.5,'1042 - 1105':1073.5,\n",
    "                                                            '2000 - 5634':3817,'1230 - 1490':1360,'2466 - 2856':2661,'981 - 1249':1115,'840 - 1010':925,\n",
    "                                                            '1230 - 1290':1260,'1252 - 1375':1313, '1052 - 1322':1187,'1300 - 1405':1352.5,'3090 - 5002':4046,\n",
    "                                                            '1.25Acres':54450,'854 - 960':907,'84.53Sq. Meter':903,'770 - 841':805.5,'850 - 1093':971.5,'122Sq. Yards':1098,\n",
    "                                                            '3103 - 3890':3496.5,'3606 - 5091': 3496.5,'3606 - 5091':4348.5,'2462 - 2467':2464.5,'2150 - 2225':2187.5,'361.33Sq. Yards':3252,\n",
    "                                                            '655 - 742':698,'1925 - 2680':2302,'1400 - 1421':1410,'3067 - 8156':5611,'1160 - 1195':1177,'547.34 - 827.31':687, '2806 - 3019':2912,\n",
    "                                                            '2710 - 3360': 3035, '605 - 624':614,'1225  - 1495':1355,'2100 - 5405':3752,'1520 - 1740':1630,'34.46Sq. Meter':371,'660 - 780':720,\n",
    "                                                            '1782 - 2000':1891,'934 - 1437':1185,'942 - 1117':1029,'888 - 1290':1089,'78.03Sq. Meter':840,'1Grounds':2400,'5.31Acres':231303,\n",
    "                                                            '1100Sq. Meter':11840,'1500Sq. Meter':16145,'3436 - 3643':3539,'620 - 933':776,'204Sq. Meter':2196})"
   ]
  },
  {
   "cell_type": "code",
   "execution_count": 146,
   "metadata": {},
   "outputs": [],
   "source": [
    "train_data['total_sqft']=train_data['total_sqft'].replace({'86.72Sq. Meter':933.5,'3293 - 5314':4304,'527 - 639':583,'45.06Sq. Meter':485,\n",
    "                                                          '750 - 800':775,'24Sq. Meter':258,'660 - 670':665,'133.3Sq. Yards':1200,'598 - 958':778,\n",
    "                                                          '799 - 803':801,'1974 - 2171':2071,'929 - 1078':1003,'704 - 730':717,'712 - 938':825,\n",
    "                                                          '684 - 810':747,'980 - 1030':1005,'15574Sq. Yards':14166,'580 - 650':615,'1076 - 1199':1137,\n",
    "                                                          '2470 - 2790': 2630,'120Sq. Yards':1080,'2.09Acres':91040,'629 - 1026':1730,'1100 - 1225':1162,\n",
    "                                                          '151.11Sq. Yards':460, '800 - 2660':1730,'1145 - 1340': 1242,'1160 - 1315':1237,\n",
    "                                                          '1408 - 1455':1431.5,'2695 - 2940':2817,'30Acres':1306799,'540 - 740':640,'2650-2990':2820,'4125Perch':1123031,\n",
    "                                                          '4900 - 4940':4920,'783 - 943': 863,'650 - 665':657,'24Guntha':26135,'1133 - 1384':1258,'755 - 770':762,'385 - 440':412,\n",
    "                                                          '1510 - 1670':1590,'3369 - 3464':3416, '943 - 1220':1081, '1235 - 1410':1372,'2204 - 2362':2283,'142.84Sq. Meter':1537,\n",
    "                                                          '1610 - 1880':1745,'2800 - 2870':2835, '1010 - 1300':1155, '1791 - 4000':2895, '1140 - 1250':1195,'1195 - 1440':1317,\n",
    "                                                          '1000 - 1285':1142,'2100 - 2850':2475, '2940Sq. Yards':21960,'1015 - 1540':1277,'1550 - 1590':1570,'4400 - 6800':5600,\n",
    "                                                          '1100Sq. Yards':9900,'2563 - 2733':2648, '3Cents':1306,'3500 - 3600':3550,'1250 - 1305':1255,'38Guntha':41381})"
   ]
  },
  {
   "cell_type": "code",
   "execution_count": 147,
   "metadata": {},
   "outputs": [],
   "source": [
    "train_data['total_sqft'] = train_data['total_sqft'].replace({'2528 - 3188':2858,'884 - 1116':1000,'15Acres':653400,'38Ghunta':41382,'1150-1194':1172,\n",
    "                                                            '167Sq. Meter':1797,'1070 - 1315':1192,'3508 - 4201':3854,'1360 - 1890':1625,'1750 - 2640':2195,\n",
    "                                                            '664 - 722':693,'596 - 861':729,'1349 - 3324':2336,'520 - 645':582,'540 - 670':582,'2805 - 3565':3185,\n",
    "                                                            '1565 - 1595':1580,'660 - 700':680,'1520 - 1759':1640,'2400 - 2600': 2500,'1440 - 1884':1661, '3040Sq. Meter':32722,'1180 - 1630':1405,\n",
    "                                                            '1574Sq. Meter':14166,'2650 - 2990':2820,'650 - 760':705,'1004 - 1204':1104,'1445 - 1455':1450,'615 - 985':800,\n",
    "                                                            '3425 - 3435':3430,'3484 - 3550':3517,'2215 - 2475':2345,'1482 - 1684':1583,'1215 - 1495':1355,'1000Sq. Meter':10764,\n",
    "                                                            '315Sq. Yards':3391,'1255 - 1375':1315,'1150 - 1194':1172,'540 - 565':555})"
   ]
  },
  {
   "cell_type": "code",
   "execution_count": 151,
   "metadata": {},
   "outputs": [],
   "source": [
    "train_data['total_sqft'] = train_data['total_sqft'].astype(float)"
   ]
  },
  {
   "cell_type": "code",
   "execution_count": 152,
   "metadata": {},
   "outputs": [
    {
     "data": {
      "image/png": "[encoded data removed]",
      "text/plain": [
       "<Figure size 432x288 with 1 Axes>"
      ]
     },
     "metadata": {
      "needs_background": "light"
     },
     "output_type": "display_data"
    }
   ],
   "source": [
    "plt.boxplot(train_data['total_sqft'])\n",
    "plt.show()"
   ]
  },
  {
   "cell_type": "code",
   "execution_count": null,
   "metadata": {},
   "outputs": [],
   "source": [
    "plt.boxplot(train_data['size'])\n",
    "plt.show()"
   ]
  },
  {
   "cell_type": "code",
   "execution_count": null,
   "metadata": {},
   "outputs": [],
   "source": [
    "## Now Impute the both column "
   ]
  },
  {
   "cell_type": "code",
   "execution_count": 154,
   "metadata": {},
   "outputs": [
    {
     "ename": "TypeError",
     "evalue": "can't multiply sequence by non-int of type 'float'",
     "output_type": "error",
     "traceback": [
      "\u001b[1;31m---------------------------------------------------------------------------\u001b[0m",
      "\u001b[1;31mTypeError\u001b[0m                                 Traceback (most recent call last)",
      "\u001b[1;32m<ipython-input-154-27cd725bbbd2>\u001b[0m in \u001b[0;36m<module>\u001b[1;34m()\u001b[0m\n\u001b[1;32m----> 1\u001b[1;33m \u001b[0mtrain_data\u001b[0m\u001b[1;33m[\u001b[0m\u001b[1;34m'size'\u001b[0m\u001b[1;33m]\u001b[0m\u001b[1;33m=\u001b[0m \u001b[0mtrain_data\u001b[0m\u001b[1;33m[\u001b[0m\u001b[1;34m'size'\u001b[0m\u001b[1;33m]\u001b[0m\u001b[1;33m.\u001b[0m\u001b[0mclip_upper\u001b[0m\u001b[1;33m(\u001b[0m\u001b[0mtrain_data\u001b[0m\u001b[1;33m[\u001b[0m\u001b[1;34m'size'\u001b[0m\u001b[1;33m]\u001b[0m\u001b[1;33m.\u001b[0m\u001b[0mquantile\u001b[0m\u001b[1;33m(\u001b[0m\u001b[1;36m0.9\u001b[0m\u001b[1;33m)\u001b[0m\u001b[1;33m)\u001b[0m\u001b[1;33m\u001b[0m\u001b[0m\n\u001b[0m\u001b[0;32m      2\u001b[0m \u001b[0mtrain_data\u001b[0m\u001b[1;33m[\u001b[0m\u001b[1;34m'size'\u001b[0m\u001b[1;33m]\u001b[0m\u001b[1;33m=\u001b[0m \u001b[0mtrain_data\u001b[0m\u001b[1;33m[\u001b[0m\u001b[1;34m'size'\u001b[0m\u001b[1;33m]\u001b[0m\u001b[1;33m.\u001b[0m\u001b[0mclip_lower\u001b[0m\u001b[1;33m(\u001b[0m\u001b[0mtrain_data\u001b[0m\u001b[1;33m[\u001b[0m\u001b[1;34m'size'\u001b[0m\u001b[1;33m]\u001b[0m\u001b[1;33m.\u001b[0m\u001b[0mquantile\u001b[0m\u001b[1;33m(\u001b[0m\u001b[1;36m0.01\u001b[0m\u001b[1;33m)\u001b[0m\u001b[1;33m)\u001b[0m\u001b[1;33m\u001b[0m\u001b[0m\n",
      "\u001b[1;32m~\\Anaconda3\\lib\\site-packages\\pandas\\core\\series.py\u001b[0m in \u001b[0;36mquantile\u001b[1;34m(self, q, interpolation)\u001b[0m\n\u001b[0;32m   1876\u001b[0m         \u001b[0mself\u001b[0m\u001b[1;33m.\u001b[0m\u001b[0m_check_percentile\u001b[0m\u001b[1;33m(\u001b[0m\u001b[0mq\u001b[0m\u001b[1;33m)\u001b[0m\u001b[1;33m\u001b[0m\u001b[0m\n\u001b[0;32m   1877\u001b[0m \u001b[1;33m\u001b[0m\u001b[0m\n\u001b[1;32m-> 1878\u001b[1;33m         \u001b[0mresult\u001b[0m \u001b[1;33m=\u001b[0m \u001b[0mself\u001b[0m\u001b[1;33m.\u001b[0m\u001b[0m_data\u001b[0m\u001b[1;33m.\u001b[0m\u001b[0mquantile\u001b[0m\u001b[1;33m(\u001b[0m\u001b[0mqs\u001b[0m\u001b[1;33m=\u001b[0m\u001b[0mq\u001b[0m\u001b[1;33m,\u001b[0m \u001b[0minterpolation\u001b[0m\u001b[1;33m=\u001b[0m\u001b[0minterpolation\u001b[0m\u001b[1;33m)\u001b[0m\u001b[1;33m\u001b[0m\u001b[0m\n\u001b[0m\u001b[0;32m   1879\u001b[0m \u001b[1;33m\u001b[0m\u001b[0m\n\u001b[0;32m   1880\u001b[0m         \u001b[1;32mif\u001b[0m \u001b[0mis_list_like\u001b[0m\u001b[1;33m(\u001b[0m\u001b[0mq\u001b[0m\u001b[1;33m)\u001b[0m\u001b[1;33m:\u001b[0m\u001b[1;33m\u001b[0m\u001b[0m\n",
      "\u001b[1;32m~\\Anaconda3\\lib\\site-packages\\pandas\\core\\internals.py\u001b[0m in \u001b[0;36mquantile\u001b[1;34m(self, **kwargs)\u001b[0m\n\u001b[0;32m   3688\u001b[0m \u001b[1;33m\u001b[0m\u001b[0m\n\u001b[0;32m   3689\u001b[0m     \u001b[1;32mdef\u001b[0m \u001b[0mquantile\u001b[0m\u001b[1;33m(\u001b[0m\u001b[0mself\u001b[0m\u001b[1;33m,\u001b[0m \u001b[1;33m**\u001b[0m\u001b[0mkwargs\u001b[0m\u001b[1;33m)\u001b[0m\u001b[1;33m:\u001b[0m\u001b[1;33m\u001b[0m\u001b[0m\n\u001b[1;32m-> 3690\u001b[1;33m         \u001b[1;32mreturn\u001b[0m \u001b[0mself\u001b[0m\u001b[1;33m.\u001b[0m\u001b[0mreduction\u001b[0m\u001b[1;33m(\u001b[0m\u001b[1;34m'quantile'\u001b[0m\u001b[1;33m,\u001b[0m \u001b[1;33m**\u001b[0m\u001b[0mkwargs\u001b[0m\u001b[1;33m)\u001b[0m\u001b[1;33m\u001b[0m\u001b[0m\n\u001b[0m\u001b[0;32m   3691\u001b[0m \u001b[1;33m\u001b[0m\u001b[0m\n\u001b[0;32m   3692\u001b[0m     \u001b[1;32mdef\u001b[0m \u001b[0msetitem\u001b[0m\u001b[1;33m(\u001b[0m\u001b[0mself\u001b[0m\u001b[1;33m,\u001b[0m \u001b[1;33m**\u001b[0m\u001b[0mkwargs\u001b[0m\u001b[1;33m)\u001b[0m\u001b[1;33m:\u001b[0m\u001b[1;33m\u001b[0m\u001b[0m\n",
      "\u001b[1;32m~\\Anaconda3\\lib\\site-packages\\pandas\\core\\internals.py\u001b[0m in \u001b[0;36mreduction\u001b[1;34m(self, f, axis, consolidate, transposed, **kwargs)\u001b[0m\n\u001b[0;32m   3617\u001b[0m         \u001b[1;32mfor\u001b[0m \u001b[0mb\u001b[0m \u001b[1;32min\u001b[0m \u001b[0mself\u001b[0m\u001b[1;33m.\u001b[0m\u001b[0mblocks\u001b[0m\u001b[1;33m:\u001b[0m\u001b[1;33m\u001b[0m\u001b[0m\n\u001b[0;32m   3618\u001b[0m             \u001b[0mkwargs\u001b[0m\u001b[1;33m[\u001b[0m\u001b[1;34m'mgr'\u001b[0m\u001b[1;33m]\u001b[0m \u001b[1;33m=\u001b[0m \u001b[0mself\u001b[0m\u001b[1;33m\u001b[0m\u001b[0m\n\u001b[1;32m-> 3619\u001b[1;33m             \u001b[0maxe\u001b[0m\u001b[1;33m,\u001b[0m \u001b[0mblock\u001b[0m \u001b[1;33m=\u001b[0m \u001b[0mgetattr\u001b[0m\u001b[1;33m(\u001b[0m\u001b[0mb\u001b[0m\u001b[1;33m,\u001b[0m \u001b[0mf\u001b[0m\u001b[1;33m)\u001b[0m\u001b[1;33m(\u001b[0m\u001b[0maxis\u001b[0m\u001b[1;33m=\u001b[0m\u001b[0maxis\u001b[0m\u001b[1;33m,\u001b[0m \u001b[1;33m**\u001b[0m\u001b[0mkwargs\u001b[0m\u001b[1;33m)\u001b[0m\u001b[1;33m\u001b[0m\u001b[0m\n\u001b[0m\u001b[0;32m   3620\u001b[0m \u001b[1;33m\u001b[0m\u001b[0m\n\u001b[0;32m   3621\u001b[0m             \u001b[0maxes\u001b[0m\u001b[1;33m.\u001b[0m\u001b[0mappend\u001b[0m\u001b[1;33m(\u001b[0m\u001b[0maxe\u001b[0m\u001b[1;33m)\u001b[0m\u001b[1;33m\u001b[0m\u001b[0m\n",
      "\u001b[1;32m~\\Anaconda3\\lib\\site-packages\\pandas\\core\\internals.py\u001b[0m in \u001b[0;36mquantile\u001b[1;34m(self, qs, interpolation, axis, mgr)\u001b[0m\n\u001b[0;32m   1681\u001b[0m                     \u001b[0mresult\u001b[0m \u001b[1;33m=\u001b[0m \u001b[0mnp\u001b[0m\u001b[1;33m.\u001b[0m\u001b[0marray\u001b[0m\u001b[1;33m(\u001b[0m\u001b[1;33m[\u001b[0m\u001b[0mself\u001b[0m\u001b[1;33m.\u001b[0m\u001b[0m_na_value\u001b[0m\u001b[1;33m]\u001b[0m \u001b[1;33m*\u001b[0m \u001b[0mlen\u001b[0m\u001b[1;33m(\u001b[0m\u001b[0mself\u001b[0m\u001b[1;33m)\u001b[0m\u001b[1;33m)\u001b[0m\u001b[1;33m\u001b[0m\u001b[0m\n\u001b[0;32m   1682\u001b[0m             \u001b[1;32melse\u001b[0m\u001b[1;33m:\u001b[0m\u001b[1;33m\u001b[0m\u001b[0m\n\u001b[1;32m-> 1683\u001b[1;33m                 \u001b[0mresult\u001b[0m \u001b[1;33m=\u001b[0m \u001b[0m_nanpercentile\u001b[0m\u001b[1;33m(\u001b[0m\u001b[0mvalues\u001b[0m\u001b[1;33m,\u001b[0m \u001b[0mqs\u001b[0m \u001b[1;33m*\u001b[0m \u001b[1;36m100\u001b[0m\u001b[1;33m,\u001b[0m \u001b[0maxis\u001b[0m\u001b[1;33m=\u001b[0m\u001b[0maxis\u001b[0m\u001b[1;33m,\u001b[0m \u001b[1;33m**\u001b[0m\u001b[0mkw\u001b[0m\u001b[1;33m)\u001b[0m\u001b[1;33m\u001b[0m\u001b[0m\n\u001b[0m\u001b[0;32m   1684\u001b[0m \u001b[1;33m\u001b[0m\u001b[0m\n\u001b[0;32m   1685\u001b[0m         \u001b[0mndim\u001b[0m \u001b[1;33m=\u001b[0m \u001b[0mgetattr\u001b[0m\u001b[1;33m(\u001b[0m\u001b[0mresult\u001b[0m\u001b[1;33m,\u001b[0m \u001b[1;34m'ndim'\u001b[0m\u001b[1;33m,\u001b[0m \u001b[1;32mNone\u001b[0m\u001b[1;33m)\u001b[0m \u001b[1;32mor\u001b[0m \u001b[1;36m0\u001b[0m\u001b[1;33m\u001b[0m\u001b[0m\n",
      "\u001b[1;32m~\\Anaconda3\\lib\\site-packages\\pandas\\core\\internals.py\u001b[0m in \u001b[0;36m_nanpercentile\u001b[1;34m(values, q, axis, **kw)\u001b[0m\n\u001b[0;32m   1624\u001b[0m             \u001b[1;32mif\u001b[0m \u001b[1;32mnot\u001b[0m \u001b[0mis_scalar\u001b[0m\u001b[1;33m(\u001b[0m\u001b[0mmask\u001b[0m\u001b[1;33m)\u001b[0m \u001b[1;32mand\u001b[0m \u001b[0mmask\u001b[0m\u001b[1;33m.\u001b[0m\u001b[0many\u001b[0m\u001b[1;33m(\u001b[0m\u001b[1;33m)\u001b[0m\u001b[1;33m:\u001b[0m\u001b[1;33m\u001b[0m\u001b[0m\n\u001b[0;32m   1625\u001b[0m                 \u001b[1;32mif\u001b[0m \u001b[0mself\u001b[0m\u001b[1;33m.\u001b[0m\u001b[0mndim\u001b[0m \u001b[1;33m==\u001b[0m \u001b[1;36m1\u001b[0m\u001b[1;33m:\u001b[0m\u001b[1;33m\u001b[0m\u001b[0m\n\u001b[1;32m-> 1626\u001b[1;33m                     \u001b[1;32mreturn\u001b[0m \u001b[0m_nanpercentile1D\u001b[0m\u001b[1;33m(\u001b[0m\u001b[0mvalues\u001b[0m\u001b[1;33m,\u001b[0m \u001b[0mmask\u001b[0m\u001b[1;33m,\u001b[0m \u001b[0mq\u001b[0m\u001b[1;33m,\u001b[0m \u001b[1;33m**\u001b[0m\u001b[0mkw\u001b[0m\u001b[1;33m)\u001b[0m\u001b[1;33m\u001b[0m\u001b[0m\n\u001b[0m\u001b[0;32m   1627\u001b[0m                 \u001b[1;32melse\u001b[0m\u001b[1;33m:\u001b[0m\u001b[1;33m\u001b[0m\u001b[0m\n\u001b[0;32m   1628\u001b[0m                     \u001b[1;31m# for nonconsolidatable blocks mask is 1D, but values 2D\u001b[0m\u001b[1;33m\u001b[0m\u001b[1;33m\u001b[0m\u001b[0m\n",
      "\u001b[1;32m~\\Anaconda3\\lib\\site-packages\\pandas\\core\\internals.py\u001b[0m in \u001b[0;36m_nanpercentile1D\u001b[1;34m(values, mask, q, **kw)\u001b[0m\n\u001b[0;32m   1617\u001b[0m                                     dtype=values.dtype)\n\u001b[0;32m   1618\u001b[0m \u001b[1;33m\u001b[0m\u001b[0m\n\u001b[1;32m-> 1619\u001b[1;33m             \u001b[1;32mreturn\u001b[0m \u001b[0mnp\u001b[0m\u001b[1;33m.\u001b[0m\u001b[0mpercentile\u001b[0m\u001b[1;33m(\u001b[0m\u001b[0mvalues\u001b[0m\u001b[1;33m,\u001b[0m \u001b[0mq\u001b[0m\u001b[1;33m,\u001b[0m \u001b[1;33m**\u001b[0m\u001b[0mkw\u001b[0m\u001b[1;33m)\u001b[0m\u001b[1;33m\u001b[0m\u001b[0m\n\u001b[0m\u001b[0;32m   1620\u001b[0m \u001b[1;33m\u001b[0m\u001b[0m\n\u001b[0;32m   1621\u001b[0m         \u001b[1;32mdef\u001b[0m \u001b[0m_nanpercentile\u001b[0m\u001b[1;33m(\u001b[0m\u001b[0mvalues\u001b[0m\u001b[1;33m,\u001b[0m \u001b[0mq\u001b[0m\u001b[1;33m,\u001b[0m \u001b[0maxis\u001b[0m\u001b[1;33m,\u001b[0m \u001b[1;33m**\u001b[0m\u001b[0mkw\u001b[0m\u001b[1;33m)\u001b[0m\u001b[1;33m:\u001b[0m\u001b[1;33m\u001b[0m\u001b[0m\n",
      "\u001b[1;32m~\\Anaconda3\\lib\\site-packages\\numpy\\lib\\function_base.py\u001b[0m in \u001b[0;36mpercentile\u001b[1;34m(a, q, axis, out, overwrite_input, interpolation, keepdims)\u001b[0m\n\u001b[0;32m   3538\u001b[0m         \u001b[1;32mraise\u001b[0m \u001b[0mValueError\u001b[0m\u001b[1;33m(\u001b[0m\u001b[1;34m\"Percentiles must be in the range [0, 100]\"\u001b[0m\u001b[1;33m)\u001b[0m\u001b[1;33m\u001b[0m\u001b[0m\n\u001b[0;32m   3539\u001b[0m     return _quantile_unchecked(\n\u001b[1;32m-> 3540\u001b[1;33m         a, q, axis, out, overwrite_input, interpolation, keepdims)\n\u001b[0m\u001b[0;32m   3541\u001b[0m \u001b[1;33m\u001b[0m\u001b[0m\n\u001b[0;32m   3542\u001b[0m \u001b[1;33m\u001b[0m\u001b[0m\n",
      "\u001b[1;32m~\\Anaconda3\\lib\\site-packages\\numpy\\lib\\function_base.py\u001b[0m in \u001b[0;36m_quantile_unchecked\u001b[1;34m(a, q, axis, out, overwrite_input, interpolation, keepdims)\u001b[0m\n\u001b[0;32m   3650\u001b[0m     r, k = _ureduce(a, func=_quantile_ureduce_func, q=q, axis=axis, out=out,\n\u001b[0;32m   3651\u001b[0m                     \u001b[0moverwrite_input\u001b[0m\u001b[1;33m=\u001b[0m\u001b[0moverwrite_input\u001b[0m\u001b[1;33m,\u001b[0m\u001b[1;33m\u001b[0m\u001b[0m\n\u001b[1;32m-> 3652\u001b[1;33m                     interpolation=interpolation)\n\u001b[0m\u001b[0;32m   3653\u001b[0m     \u001b[1;32mif\u001b[0m \u001b[0mkeepdims\u001b[0m\u001b[1;33m:\u001b[0m\u001b[1;33m\u001b[0m\u001b[0m\n\u001b[0;32m   3654\u001b[0m         \u001b[1;32mreturn\u001b[0m \u001b[0mr\u001b[0m\u001b[1;33m.\u001b[0m\u001b[0mreshape\u001b[0m\u001b[1;33m(\u001b[0m\u001b[0mq\u001b[0m\u001b[1;33m.\u001b[0m\u001b[0mshape\u001b[0m \u001b[1;33m+\u001b[0m \u001b[0mk\u001b[0m\u001b[1;33m)\u001b[0m\u001b[1;33m\u001b[0m\u001b[0m\n",
      "\u001b[1;32m~\\Anaconda3\\lib\\site-packages\\numpy\\lib\\function_base.py\u001b[0m in \u001b[0;36m_ureduce\u001b[1;34m(a, func, **kwargs)\u001b[0m\n\u001b[0;32m   3248\u001b[0m         \u001b[0mkeepdim\u001b[0m \u001b[1;33m=\u001b[0m \u001b[1;33m(\u001b[0m\u001b[1;36m1\u001b[0m\u001b[1;33m,\u001b[0m\u001b[1;33m)\u001b[0m \u001b[1;33m*\u001b[0m \u001b[0ma\u001b[0m\u001b[1;33m.\u001b[0m\u001b[0mndim\u001b[0m\u001b[1;33m\u001b[0m\u001b[0m\n\u001b[0;32m   3249\u001b[0m \u001b[1;33m\u001b[0m\u001b[0m\n\u001b[1;32m-> 3250\u001b[1;33m     \u001b[0mr\u001b[0m \u001b[1;33m=\u001b[0m \u001b[0mfunc\u001b[0m\u001b[1;33m(\u001b[0m\u001b[0ma\u001b[0m\u001b[1;33m,\u001b[0m \u001b[1;33m**\u001b[0m\u001b[0mkwargs\u001b[0m\u001b[1;33m)\u001b[0m\u001b[1;33m\u001b[0m\u001b[0m\n\u001b[0m\u001b[0;32m   3251\u001b[0m     \u001b[1;32mreturn\u001b[0m \u001b[0mr\u001b[0m\u001b[1;33m,\u001b[0m \u001b[0mkeepdim\u001b[0m\u001b[1;33m\u001b[0m\u001b[0m\n\u001b[0;32m   3252\u001b[0m \u001b[1;33m\u001b[0m\u001b[0m\n",
      "\u001b[1;32m~\\Anaconda3\\lib\\site-packages\\numpy\\lib\\function_base.py\u001b[0m in \u001b[0;36m_quantile_ureduce_func\u001b[1;34m(a, q, axis, out, overwrite_input, interpolation, keepdims)\u001b[0m\n\u001b[0;32m   3765\u001b[0m             \u001b[0mn\u001b[0m \u001b[1;33m=\u001b[0m \u001b[0mnp\u001b[0m\u001b[1;33m.\u001b[0m\u001b[0misnan\u001b[0m\u001b[1;33m(\u001b[0m\u001b[0map\u001b[0m\u001b[1;33m[\u001b[0m\u001b[1;33m-\u001b[0m\u001b[1;36m1\u001b[0m\u001b[1;33m:\u001b[0m\u001b[1;33m,\u001b[0m \u001b[1;33m...\u001b[0m\u001b[1;33m]\u001b[0m\u001b[1;33m)\u001b[0m\u001b[1;33m\u001b[0m\u001b[0m\n\u001b[0;32m   3766\u001b[0m \u001b[1;33m\u001b[0m\u001b[0m\n\u001b[1;32m-> 3767\u001b[1;33m         \u001b[0mx1\u001b[0m \u001b[1;33m=\u001b[0m \u001b[0mtake\u001b[0m\u001b[1;33m(\u001b[0m\u001b[0map\u001b[0m\u001b[1;33m,\u001b[0m \u001b[0mindices_below\u001b[0m\u001b[1;33m,\u001b[0m \u001b[0maxis\u001b[0m\u001b[1;33m=\u001b[0m\u001b[0maxis\u001b[0m\u001b[1;33m)\u001b[0m \u001b[1;33m*\u001b[0m \u001b[0mweights_below\u001b[0m\u001b[1;33m\u001b[0m\u001b[0m\n\u001b[0m\u001b[0;32m   3768\u001b[0m         \u001b[0mx2\u001b[0m \u001b[1;33m=\u001b[0m \u001b[0mtake\u001b[0m\u001b[1;33m(\u001b[0m\u001b[0map\u001b[0m\u001b[1;33m,\u001b[0m \u001b[0mindices_above\u001b[0m\u001b[1;33m,\u001b[0m \u001b[0maxis\u001b[0m\u001b[1;33m=\u001b[0m\u001b[0maxis\u001b[0m\u001b[1;33m)\u001b[0m \u001b[1;33m*\u001b[0m \u001b[0mweights_above\u001b[0m\u001b[1;33m\u001b[0m\u001b[0m\n\u001b[0;32m   3769\u001b[0m \u001b[1;33m\u001b[0m\u001b[0m\n",
      "\u001b[1;31mTypeError\u001b[0m: can't multiply sequence by non-int of type 'float'"
     ]
    }
   ],
   "source": [
    "train_data['size']= train_data['size'].clip_upper(train_data['size'].quantile(0.9)) \n",
    "train_data['size']= train_data['size'].clip_lower(train_data['size'].quantile(0.01)) "
   ]
  },
  {
   "cell_type": "code",
   "execution_count": 68,
   "metadata": {},
   "outputs": [],
   "source": [
    "train_data['total_sqft'] = train_data['total_sqft'].clip_upper(train_data['total_sqft'].quantile(0.90))\n",
    "train_data['total_sqft'] = train_data['total_sqft'].clip_lower(train_data['total_sqft'].quantile(.1))"
   ]
  },
  {
   "cell_type": "code",
   "execution_count": 107,
   "metadata": {},
   "outputs": [
    {
     "data": {
      "text/html": [
       "<div>\n",
       "<style scoped>\n",
       "    .dataframe tbody tr th:only-of-type {\n",
       "        vertical-align: middle;\n",
       "    }\n",
       "\n",
       "    .dataframe tbody tr th {\n",
       "        vertical-align: top;\n",
       "    }\n",
       "\n",
       "    .dataframe thead th {\n",
       "        text-align: right;\n",
       "    }\n",
       "</style>\n",
       "<table border=\"1\" class=\"dataframe\">\n",
       "  <thead>\n",
       "    <tr style=\"text-align: right;\">\n",
       "      <th></th>\n",
       "      <th>size</th>\n",
       "      <th>price</th>\n",
       "    </tr>\n",
       "  </thead>\n",
       "  <tbody>\n",
       "    <tr>\n",
       "      <th>0</th>\n",
       "      <td>2.0</td>\n",
       "      <td>39.07</td>\n",
       "    </tr>\n",
       "    <tr>\n",
       "      <th>1</th>\n",
       "      <td>4.0</td>\n",
       "      <td>120.00</td>\n",
       "    </tr>\n",
       "    <tr>\n",
       "      <th>2</th>\n",
       "      <td>3.0</td>\n",
       "      <td>62.00</td>\n",
       "    </tr>\n",
       "    <tr>\n",
       "      <th>3</th>\n",
       "      <td>3.0</td>\n",
       "      <td>95.00</td>\n",
       "    </tr>\n",
       "    <tr>\n",
       "      <th>4</th>\n",
       "      <td>2.0</td>\n",
       "      <td>51.00</td>\n",
       "    </tr>\n",
       "  </tbody>\n",
       "</table>\n",
       "</div>"
      ],
      "text/plain": [
       "   size   price\n",
       "0   2.0   39.07\n",
       "1   4.0  120.00\n",
       "2   3.0   62.00\n",
       "3   3.0   95.00\n",
       "4   2.0   51.00"
      ]
     },
     "execution_count": 107,
     "metadata": {},
     "output_type": "execute_result"
    }
   ],
   "source": [
    "df = train_data.loc[:,['size','price']]\n",
    "df.head()"
   ]
  },
  {
   "cell_type": "code",
   "execution_count": 109,
   "metadata": {},
   "outputs": [
    {
     "name": "stderr",
     "output_type": "stream",
     "text": [
      "C:\\Users\\Dhiru\\Anaconda3\\lib\\site-packages\\scipy\\stats\\stats.py:1713: FutureWarning: Using a non-tuple sequence for multidimensional indexing is deprecated; use `arr[tuple(seq)]` instead of `arr[seq]`. In the future this will be interpreted as an array index, `arr[np.array(seq)]`, which will result either in an error or a different result.\n",
      "  return np.add.reduce(sorted[indexer] * weights, axis=axis) / sumval\n"
     ]
    },
    {
     "data": {
      "image/png": "[encoded data removed]",
      "text/plain": [
       "<Figure size 360x360 with 1 Axes>"
      ]
     },
     "metadata": {
      "needs_background": "light"
     },
     "output_type": "display_data"
    }
   ],
   "source": [
    "sns.lmplot(x ='size',y ='price',data=df)\n",
    "plt.show()"
   ]
  },
  {
   "cell_type": "code",
   "execution_count": 112,
   "metadata": {},
   "outputs": [
    {
     "data": {
      "text/html": [
       "<div>\n",
       "<style scoped>\n",
       "    .dataframe tbody tr th:only-of-type {\n",
       "        vertical-align: middle;\n",
       "    }\n",
       "\n",
       "    .dataframe tbody tr th {\n",
       "        vertical-align: top;\n",
       "    }\n",
       "\n",
       "    .dataframe thead th {\n",
       "        text-align: right;\n",
       "    }\n",
       "</style>\n",
       "<table border=\"1\" class=\"dataframe\">\n",
       "  <thead>\n",
       "    <tr style=\"text-align: right;\">\n",
       "      <th></th>\n",
       "      <th>total_sqft</th>\n",
       "      <th>price</th>\n",
       "    </tr>\n",
       "  </thead>\n",
       "  <tbody>\n",
       "    <tr>\n",
       "      <th>0</th>\n",
       "      <td>1056.0</td>\n",
       "      <td>39.07</td>\n",
       "    </tr>\n",
       "    <tr>\n",
       "      <th>1</th>\n",
       "      <td>2430.0</td>\n",
       "      <td>120.00</td>\n",
       "    </tr>\n",
       "  </tbody>\n",
       "</table>\n",
       "</div>"
      ],
      "text/plain": [
       "   total_sqft   price\n",
       "0      1056.0   39.07\n",
       "1      2430.0  120.00"
      ]
     },
     "execution_count": 112,
     "metadata": {},
     "output_type": "execute_result"
    }
   ],
   "source": [
    "df1 = train_data.loc[:,['total_sqft','price']]\n",
    "df1.head(2)"
   ]
  },
  {
   "cell_type": "code",
   "execution_count": 114,
   "metadata": {},
   "outputs": [
    {
     "name": "stderr",
     "output_type": "stream",
     "text": [
      "C:\\Users\\Dhiru\\Anaconda3\\lib\\site-packages\\scipy\\stats\\stats.py:1713: FutureWarning: Using a non-tuple sequence for multidimensional indexing is deprecated; use `arr[tuple(seq)]` instead of `arr[seq]`. In the future this will be interpreted as an array index, `arr[np.array(seq)]`, which will result either in an error or a different result.\n",
      "  return np.add.reduce(sorted[indexer] * weights, axis=axis) / sumval\n"
     ]
    },
    {
     "data": {
      "image/png": "[encoded data removed]",
      "text/plain": [
       "<Figure size 360x360 with 1 Axes>"
      ]
     },
     "metadata": {
      "needs_background": "light"
     },
     "output_type": "display_data"
    }
   ],
   "source": [
    "sns.lmplot(x='total_sqft',y='price',data=df1)\n",
    "plt.show()"
   ]
  },
  {
   "cell_type": "code",
   "execution_count": 115,
   "metadata": {},
   "outputs": [],
   "source": [
    "df3=train_data.loc[:,['size','total_sqft']]"
   ]
  },
  {
   "cell_type": "code",
   "execution_count": 117,
   "metadata": {},
   "outputs": [
    {
     "data": {
      "image/png": "[encoded data removed]",
      "text/plain": [
       "<Figure size 432x288 with 1 Axes>"
      ]
     },
     "metadata": {
      "needs_background": "light"
     },
     "output_type": "display_data"
    }
   ],
   "source": [
    "sns.scatterplot(x='size',y='total_sqft',data=df3)\n",
    "plt.show()"
   ]
  },
  {
   "cell_type": "code",
   "execution_count": 110,
   "metadata": {},
   "outputs": [
    {
     "data": {
      "text/html": [
       "<div>\n",
       "<style scoped>\n",
       "    .dataframe tbody tr th:only-of-type {\n",
       "        vertical-align: middle;\n",
       "    }\n",
       "\n",
       "    .dataframe tbody tr th {\n",
       "        vertical-align: top;\n",
       "    }\n",
       "\n",
       "    .dataframe thead th {\n",
       "        text-align: right;\n",
       "    }\n",
       "</style>\n",
       "<table border=\"1\" class=\"dataframe\">\n",
       "  <thead>\n",
       "    <tr style=\"text-align: right;\">\n",
       "      <th></th>\n",
       "      <th>area_type</th>\n",
       "      <th>availability</th>\n",
       "      <th>location</th>\n",
       "      <th>size</th>\n",
       "      <th>society</th>\n",
       "      <th>total_sqft</th>\n",
       "      <th>bath</th>\n",
       "      <th>balcony</th>\n",
       "      <th>price</th>\n",
       "    </tr>\n",
       "  </thead>\n",
       "  <tbody>\n",
       "    <tr>\n",
       "      <th>0</th>\n",
       "      <td>1</td>\n",
       "      <td>2</td>\n",
       "      <td>419</td>\n",
       "      <td>2.0</td>\n",
       "      <td>464</td>\n",
       "      <td>1056.0</td>\n",
       "      <td>2.0</td>\n",
       "      <td>1.0</td>\n",
       "      <td>39.07</td>\n",
       "    </tr>\n",
       "    <tr>\n",
       "      <th>1</th>\n",
       "      <td>3</td>\n",
       "      <td>11</td>\n",
       "      <td>317</td>\n",
       "      <td>4.0</td>\n",
       "      <td>2439</td>\n",
       "      <td>2430.0</td>\n",
       "      <td>5.0</td>\n",
       "      <td>3.0</td>\n",
       "      <td>120.00</td>\n",
       "    </tr>\n",
       "  </tbody>\n",
       "</table>\n",
       "</div>"
      ],
      "text/plain": [
       "   area_type  availability  location  size  society  total_sqft  bath  \\\n",
       "0          1             2       419   2.0      464      1056.0   2.0   \n",
       "1          3            11       317   4.0     2439      2430.0   5.0   \n",
       "\n",
       "   balcony   price  \n",
       "0      1.0   39.07  \n",
       "1      3.0  120.00  "
      ]
     },
     "execution_count": 110,
     "metadata": {},
     "output_type": "execute_result"
    }
   ],
   "source": [
    "train_data.head(2)"
   ]
  },
  {
   "cell_type": "code",
   "execution_count": null,
   "metadata": {},
   "outputs": [],
   "source": []
  },
  {
   "cell_type": "code",
   "execution_count": null,
   "metadata": {},
   "outputs": [],
   "source": []
  },
  {
   "cell_type": "code",
   "execution_count": 15,
   "metadata": {},
   "outputs": [],
   "source": [
    "#train_data['size'] = train_data['size'].str.replace('[a-zA-Z]','').head()"
   ]
  },
  {
   "cell_type": "code",
   "execution_count": 161,
   "metadata": {},
   "outputs": [],
   "source": [
    "def ready(x):\n",
    "    if x=='18':\n",
    "        return 1\n",
    "    elif x=='19':\n",
    "        return 2\n",
    "    elif x=='17':\n",
    "        return 3\n",
    "    elif x=='20':\n",
    "        return 4\n",
    "    elif x=='21':\n",
    "        return 5\n",
    "    elif x=='22':\n",
    "        return 6\n",
    "    elif x=='14':\n",
    "        return 7\n",
    "    elif x=='15':\n",
    "        return 8\n",
    "    elif x=='16':\n",
    "        return 9\n",
    "    elif x=='14':\n",
    "        return 10\n",
    "    elif x=='Re':\n",
    "        return 11\n",
    "    elif x=='Im':\n",
    "        return 12"
   ]
  },
  {
   "cell_type": "code",
   "execution_count": 162,
   "metadata": {},
   "outputs": [],
   "source": [
    "train_data['availability']=train_data.availability.str[:2].apply(ready)"
   ]
  },
  {
   "cell_type": "code",
   "execution_count": 74,
   "metadata": {},
   "outputs": [
    {
     "data": {
      "text/html": [
       "<div>\n",
       "<style scoped>\n",
       "    .dataframe tbody tr th:only-of-type {\n",
       "        vertical-align: middle;\n",
       "    }\n",
       "\n",
       "    .dataframe tbody tr th {\n",
       "        vertical-align: top;\n",
       "    }\n",
       "\n",
       "    .dataframe thead th {\n",
       "        text-align: right;\n",
       "    }\n",
       "</style>\n",
       "<table border=\"1\" class=\"dataframe\">\n",
       "  <thead>\n",
       "    <tr style=\"text-align: right;\">\n",
       "      <th></th>\n",
       "      <th>area_type</th>\n",
       "      <th>availability</th>\n",
       "      <th>location</th>\n",
       "      <th>size</th>\n",
       "      <th>society</th>\n",
       "      <th>total_sqft</th>\n",
       "      <th>bath</th>\n",
       "      <th>balcony</th>\n",
       "      <th>price</th>\n",
       "    </tr>\n",
       "  </thead>\n",
       "  <tbody>\n",
       "    <tr>\n",
       "      <th>0</th>\n",
       "      <td>1</td>\n",
       "      <td>2</td>\n",
       "      <td>419</td>\n",
       "      <td>2.0</td>\n",
       "      <td>464</td>\n",
       "      <td>1056.0</td>\n",
       "      <td>2.0</td>\n",
       "      <td>1.0</td>\n",
       "      <td>39.07</td>\n",
       "    </tr>\n",
       "    <tr>\n",
       "      <th>1</th>\n",
       "      <td>3</td>\n",
       "      <td>11</td>\n",
       "      <td>317</td>\n",
       "      <td>4.0</td>\n",
       "      <td>2439</td>\n",
       "      <td>2430.0</td>\n",
       "      <td>5.0</td>\n",
       "      <td>3.0</td>\n",
       "      <td>120.00</td>\n",
       "    </tr>\n",
       "  </tbody>\n",
       "</table>\n",
       "</div>"
      ],
      "text/plain": [
       "   area_type  availability  location  size  society  total_sqft  bath  \\\n",
       "0          1             2       419   2.0      464      1056.0   2.0   \n",
       "1          3            11       317   4.0     2439      2430.0   5.0   \n",
       "\n",
       "   balcony   price  \n",
       "0      1.0   39.07  \n",
       "1      3.0  120.00  "
      ]
     },
     "execution_count": 74,
     "metadata": {},
     "output_type": "execute_result"
    }
   ],
   "source": [
    "train_data.head(2)"
   ]
  },
  {
   "cell_type": "code",
   "execution_count": 155,
   "metadata": {},
   "outputs": [],
   "source": [
    "train_data['bath'].fillna(0,inplace=True)\n",
    "train_data['balcony'].fillna(0,inplace=True)\n",
    "train_data['size'].fillna(0,inplace=True)"
   ]
  },
  {
   "cell_type": "code",
   "execution_count": 156,
   "metadata": {},
   "outputs": [],
   "source": [
    "train_data['society'].fillna(method = 'ffill',inplace=True)\n",
    "train_data['location'].fillna(method = 'ffill',inplace=True)"
   ]
  },
  {
   "cell_type": "code",
   "execution_count": 21,
   "metadata": {},
   "outputs": [],
   "source": [
    "from sklearn.preprocessing import LabelEncoder"
   ]
  },
  {
   "cell_type": "code",
   "execution_count": 22,
   "metadata": {},
   "outputs": [],
   "source": [
    "train_data['location'] = LabelEncoder().fit_transform(train_data['location'].values)"
   ]
  },
  {
   "cell_type": "code",
   "execution_count": 23,
   "metadata": {},
   "outputs": [],
   "source": [
    "train_data['society'] = LabelEncoder().fit_transform(train_data['society'].values)"
   ]
  },
  {
   "cell_type": "code",
   "execution_count": 24,
   "metadata": {},
   "outputs": [
    {
     "data": {
      "text/plain": [
       "Super built-up  Area    8790\n",
       "Built-up  Area          2418\n",
       "Plot  Area              2025\n",
       "Carpet  Area              87\n",
       "Name: area_type, dtype: int64"
      ]
     },
     "execution_count": 24,
     "metadata": {},
     "output_type": "execute_result"
    }
   ],
   "source": [
    "train_data['area_type'].value_counts()"
   ]
  },
  {
   "cell_type": "code",
   "execution_count": 157,
   "metadata": {},
   "outputs": [],
   "source": [
    "train_data['size'] = train_data['size'].astype(int)"
   ]
  },
  {
   "cell_type": "code",
   "execution_count": 158,
   "metadata": {},
   "outputs": [],
   "source": [
    "train_data['area_type'] = train_data['area_type'].replace({'Super built-up  Area':1})"
   ]
  },
  {
   "cell_type": "code",
   "execution_count": 159,
   "metadata": {},
   "outputs": [],
   "source": [
    "train_data['area_type'] = train_data['area_type'].replace({'Built-up  Area':2,'Plot  Area':3,'Carpet  Area':4})"
   ]
  },
  {
   "cell_type": "code",
   "execution_count": 163,
   "metadata": {},
   "outputs": [
    {
     "data": {
      "text/html": [
       "<div>\n",
       "<style scoped>\n",
       "    .dataframe tbody tr th:only-of-type {\n",
       "        vertical-align: middle;\n",
       "    }\n",
       "\n",
       "    .dataframe tbody tr th {\n",
       "        vertical-align: top;\n",
       "    }\n",
       "\n",
       "    .dataframe thead th {\n",
       "        text-align: right;\n",
       "    }\n",
       "</style>\n",
       "<table border=\"1\" class=\"dataframe\">\n",
       "  <thead>\n",
       "    <tr style=\"text-align: right;\">\n",
       "      <th></th>\n",
       "      <th>area_type</th>\n",
       "      <th>availability</th>\n",
       "      <th>location</th>\n",
       "      <th>size</th>\n",
       "      <th>society</th>\n",
       "      <th>total_sqft</th>\n",
       "      <th>bath</th>\n",
       "      <th>balcony</th>\n",
       "      <th>price</th>\n",
       "    </tr>\n",
       "  </thead>\n",
       "  <tbody>\n",
       "    <tr>\n",
       "      <th>0</th>\n",
       "      <td>1</td>\n",
       "      <td>2</td>\n",
       "      <td>Electronic City Phase II</td>\n",
       "      <td>2</td>\n",
       "      <td>Coomee</td>\n",
       "      <td>1056.0</td>\n",
       "      <td>2.0</td>\n",
       "      <td>1.0</td>\n",
       "      <td>39.07</td>\n",
       "    </tr>\n",
       "    <tr>\n",
       "      <th>1</th>\n",
       "      <td>3</td>\n",
       "      <td>11</td>\n",
       "      <td>Chikka Tirupathi</td>\n",
       "      <td>4</td>\n",
       "      <td>Theanmp</td>\n",
       "      <td>2600.0</td>\n",
       "      <td>5.0</td>\n",
       "      <td>3.0</td>\n",
       "      <td>120.00</td>\n",
       "    </tr>\n",
       "    <tr>\n",
       "      <th>2</th>\n",
       "      <td>2</td>\n",
       "      <td>11</td>\n",
       "      <td>Uttarahalli</td>\n",
       "      <td>3</td>\n",
       "      <td>Theanmp</td>\n",
       "      <td>1440.0</td>\n",
       "      <td>2.0</td>\n",
       "      <td>3.0</td>\n",
       "      <td>62.00</td>\n",
       "    </tr>\n",
       "    <tr>\n",
       "      <th>3</th>\n",
       "      <td>1</td>\n",
       "      <td>11</td>\n",
       "      <td>Lingadheeranahalli</td>\n",
       "      <td>3</td>\n",
       "      <td>Soiewre</td>\n",
       "      <td>1521.0</td>\n",
       "      <td>3.0</td>\n",
       "      <td>1.0</td>\n",
       "      <td>95.00</td>\n",
       "    </tr>\n",
       "    <tr>\n",
       "      <th>4</th>\n",
       "      <td>1</td>\n",
       "      <td>11</td>\n",
       "      <td>Kothanur</td>\n",
       "      <td>2</td>\n",
       "      <td>Soiewre</td>\n",
       "      <td>1200.0</td>\n",
       "      <td>2.0</td>\n",
       "      <td>1.0</td>\n",
       "      <td>51.00</td>\n",
       "    </tr>\n",
       "  </tbody>\n",
       "</table>\n",
       "</div>"
      ],
      "text/plain": [
       "   area_type  availability                  location  size  society  \\\n",
       "0          1             2  Electronic City Phase II     2  Coomee    \n",
       "1          3            11          Chikka Tirupathi     4  Theanmp   \n",
       "2          2            11               Uttarahalli     3  Theanmp   \n",
       "3          1            11        Lingadheeranahalli     3  Soiewre   \n",
       "4          1            11                  Kothanur     2  Soiewre   \n",
       "\n",
       "   total_sqft  bath  balcony   price  \n",
       "0      1056.0   2.0      1.0   39.07  \n",
       "1      2600.0   5.0      3.0  120.00  \n",
       "2      1440.0   2.0      3.0   62.00  \n",
       "3      1521.0   3.0      1.0   95.00  \n",
       "4      1200.0   2.0      1.0   51.00  "
      ]
     },
     "execution_count": 163,
     "metadata": {},
     "output_type": "execute_result"
    }
   ],
   "source": [
    "train_data.head(5)"
   ]
  },
  {
   "cell_type": "code",
   "execution_count": 30,
   "metadata": {},
   "outputs": [
    {
     "data": {
      "text/plain": [
       "1    8790\n",
       "2    2418\n",
       "3    2025\n",
       "4      87\n",
       "Name: area_type, dtype: int64"
      ]
     },
     "execution_count": 30,
     "metadata": {},
     "output_type": "execute_result"
    }
   ],
   "source": [
    "train_data['area_type'].value_counts()"
   ]
  },
  {
   "cell_type": "code",
   "execution_count": 31,
   "metadata": {},
   "outputs": [
    {
     "data": {
      "text/plain": [
       "area_type         int64\n",
       "availability      int64\n",
       "location          int64\n",
       "size              int32\n",
       "society           int64\n",
       "total_sqft      float64\n",
       "bath            float64\n",
       "balcony         float64\n",
       "price           float64\n",
       "dtype: object"
      ]
     },
     "execution_count": 31,
     "metadata": {},
     "output_type": "execute_result"
    }
   ],
   "source": [
    "train_data.dtypes"
   ]
  },
  {
   "cell_type": "code",
   "execution_count": 167,
   "metadata": {},
   "outputs": [],
   "source": [
    "from sklearn.model_selection import train_test_split\n",
    "from sklearn.linear_model import LinearRegression\n",
    "from sklearn.metrics import r2_score,explained_variance_score,mean_squared_error"
   ]
  },
  {
   "cell_type": "code",
   "execution_count": 76,
   "metadata": {},
   "outputs": [],
   "source": [
    "train,test = train_test_split(train_data,test_size=.3,random_state=100)"
   ]
  },
  {
   "cell_type": "code",
   "execution_count": 77,
   "metadata": {},
   "outputs": [],
   "source": [
    "train_y = train['price']\n",
    "test_y = test['price']\n",
    "\n",
    "train_x = train.drop('price',axis=1)\n",
    "test_x = test.drop('price',axis=1)"
   ]
  },
  {
   "cell_type": "code",
   "execution_count": 78,
   "metadata": {},
   "outputs": [
    {
     "data": {
      "text/plain": [
       "LinearRegression(copy_X=True, fit_intercept=True, n_jobs=1, normalize=False)"
      ]
     },
     "execution_count": 78,
     "metadata": {},
     "output_type": "execute_result"
    }
   ],
   "source": [
    "lm = LinearRegression()\n",
    "lm.fit(train_x,train_y)"
   ]
  },
  {
   "cell_type": "code",
   "execution_count": 79,
   "metadata": {},
   "outputs": [
    {
     "data": {
      "text/plain": [
       "array([54.25882067, 76.91739624, 34.90637383,  7.56182688, 72.99842676])"
      ]
     },
     "execution_count": 79,
     "metadata": {},
     "output_type": "execute_result"
    }
   ],
   "source": [
    "lm_pred  = lm.predict(test_x)\n",
    "lm_pred[:5]"
   ]
  },
  {
   "cell_type": "code",
   "execution_count": 80,
   "metadata": {},
   "outputs": [
    {
     "data": {
      "text/plain": [
       "12627.736875838893"
      ]
     },
     "execution_count": 80,
     "metadata": {},
     "output_type": "execute_result"
    }
   ],
   "source": [
    "lm_mse = mean_squared_error(test_y,lm_pred)\n",
    "lm_mse"
   ]
  },
  {
   "cell_type": "code",
   "execution_count": 81,
   "metadata": {},
   "outputs": [
    {
     "data": {
      "text/plain": [
       "112.3732035488839"
      ]
     },
     "execution_count": 81,
     "metadata": {},
     "output_type": "execute_result"
    }
   ],
   "source": [
    "rmse_lm = np.sqrt(lm_mse)\n",
    "rmse_lm"
   ]
  },
  {
   "cell_type": "code",
   "execution_count": 85,
   "metadata": {},
   "outputs": [
    {
     "data": {
      "text/plain": [
       "0.37722742733033077"
      ]
     },
     "execution_count": 85,
     "metadata": {},
     "output_type": "execute_result"
    }
   ],
   "source": [
    "r2_lm =r2_score(test_y,lm_pred)\n",
    "r2_lm"
   ]
  },
  {
   "cell_type": "code",
   "execution_count": 83,
   "metadata": {},
   "outputs": [],
   "source": [
    "from sklearn.ensemble import RandomForestRegressor,GradientBoostingRegressor"
   ]
  },
  {
   "cell_type": "code",
   "execution_count": 84,
   "metadata": {},
   "outputs": [
    {
     "data": {
      "text/plain": [
       "array([59.4441    , 49.183     , 53.129     , 39.074     , 90.05033333])"
      ]
     },
     "execution_count": 84,
     "metadata": {},
     "output_type": "execute_result"
    }
   ],
   "source": [
    "rf = RandomForestRegressor()\n",
    "rf.fit(train_x,train_y)\n",
    "\n",
    "rf_pred = rf.predict(test_x)\n",
    "rf_pred[:5]\n"
   ]
  },
  {
   "cell_type": "code",
   "execution_count": 86,
   "metadata": {},
   "outputs": [
    {
     "data": {
      "text/html": [
       "<div>\n",
       "<style scoped>\n",
       "    .dataframe tbody tr th:only-of-type {\n",
       "        vertical-align: middle;\n",
       "    }\n",
       "\n",
       "    .dataframe tbody tr th {\n",
       "        vertical-align: top;\n",
       "    }\n",
       "\n",
       "    .dataframe thead th {\n",
       "        text-align: right;\n",
       "    }\n",
       "</style>\n",
       "<table border=\"1\" class=\"dataframe\">\n",
       "  <thead>\n",
       "    <tr style=\"text-align: right;\">\n",
       "      <th></th>\n",
       "      <th>Actual</th>\n",
       "      <th>Pred</th>\n",
       "    </tr>\n",
       "  </thead>\n",
       "  <tbody>\n",
       "    <tr>\n",
       "      <th>8296</th>\n",
       "      <td>46.79</td>\n",
       "      <td>59.444100</td>\n",
       "    </tr>\n",
       "    <tr>\n",
       "      <th>2671</th>\n",
       "      <td>72.00</td>\n",
       "      <td>49.183000</td>\n",
       "    </tr>\n",
       "    <tr>\n",
       "      <th>4090</th>\n",
       "      <td>35.00</td>\n",
       "      <td>53.129000</td>\n",
       "    </tr>\n",
       "    <tr>\n",
       "      <th>11737</th>\n",
       "      <td>45.00</td>\n",
       "      <td>39.074000</td>\n",
       "    </tr>\n",
       "    <tr>\n",
       "      <th>9770</th>\n",
       "      <td>94.00</td>\n",
       "      <td>90.050333</td>\n",
       "    </tr>\n",
       "  </tbody>\n",
       "</table>\n",
       "</div>"
      ],
      "text/plain": [
       "       Actual       Pred\n",
       "8296    46.79  59.444100\n",
       "2671    72.00  49.183000\n",
       "4090    35.00  53.129000\n",
       "11737   45.00  39.074000\n",
       "9770    94.00  90.050333"
      ]
     },
     "execution_count": 86,
     "metadata": {},
     "output_type": "execute_result"
    }
   ],
   "source": [
    "rf_df = pd.DataFrame({'Actual':test_y,'Pred':rf_pred})\n",
    "rf_df.head()"
   ]
  },
  {
   "cell_type": "code",
   "execution_count": 87,
   "metadata": {},
   "outputs": [
    {
     "name": "stdout",
     "output_type": "stream",
     "text": [
      "9473.006920713959 97.32937337060153\n"
     ]
    }
   ],
   "source": [
    "rf_mse = mean_squared_error(test_y,rf_pred)\n",
    "\n",
    "rf_rmse = np.sqrt(rf_mse)\n",
    "\n",
    "print(rf_mse, rf_rmse)"
   ]
  },
  {
   "cell_type": "code",
   "execution_count": 88,
   "metadata": {},
   "outputs": [
    {
     "data": {
      "text/plain": [
       "0.5328118609900404"
      ]
     },
     "execution_count": 88,
     "metadata": {},
     "output_type": "execute_result"
    }
   ],
   "source": [
    "r2_rf = r2_score(test_y,rf_pred)\n",
    "r2_rf"
   ]
  },
  {
   "cell_type": "code",
   "execution_count": 89,
   "metadata": {},
   "outputs": [
    {
     "data": {
      "text/plain": [
       "array([57.12149476, 70.3768223 , 50.40406428, 50.90548871, 67.82579274])"
      ]
     },
     "execution_count": 89,
     "metadata": {},
     "output_type": "execute_result"
    }
   ],
   "source": [
    "gr = GradientBoostingRegressor()\n",
    "gr.fit(train_x,train_y)\n",
    "\n",
    "gr_pred = gr.predict(test_x)\n",
    "gr_pred[:5]"
   ]
  },
  {
   "cell_type": "code",
   "execution_count": 90,
   "metadata": {},
   "outputs": [
    {
     "data": {
      "text/html": [
       "<div>\n",
       "<style scoped>\n",
       "    .dataframe tbody tr th:only-of-type {\n",
       "        vertical-align: middle;\n",
       "    }\n",
       "\n",
       "    .dataframe tbody tr th {\n",
       "        vertical-align: top;\n",
       "    }\n",
       "\n",
       "    .dataframe thead th {\n",
       "        text-align: right;\n",
       "    }\n",
       "</style>\n",
       "<table border=\"1\" class=\"dataframe\">\n",
       "  <thead>\n",
       "    <tr style=\"text-align: right;\">\n",
       "      <th></th>\n",
       "      <th>Actual</th>\n",
       "      <th>Pred</th>\n",
       "    </tr>\n",
       "  </thead>\n",
       "  <tbody>\n",
       "    <tr>\n",
       "      <th>8296</th>\n",
       "      <td>46.79</td>\n",
       "      <td>57.121495</td>\n",
       "    </tr>\n",
       "    <tr>\n",
       "      <th>2671</th>\n",
       "      <td>72.00</td>\n",
       "      <td>70.376822</td>\n",
       "    </tr>\n",
       "    <tr>\n",
       "      <th>4090</th>\n",
       "      <td>35.00</td>\n",
       "      <td>50.404064</td>\n",
       "    </tr>\n",
       "    <tr>\n",
       "      <th>11737</th>\n",
       "      <td>45.00</td>\n",
       "      <td>50.905489</td>\n",
       "    </tr>\n",
       "    <tr>\n",
       "      <th>9770</th>\n",
       "      <td>94.00</td>\n",
       "      <td>67.825793</td>\n",
       "    </tr>\n",
       "  </tbody>\n",
       "</table>\n",
       "</div>"
      ],
      "text/plain": [
       "       Actual       Pred\n",
       "8296    46.79  57.121495\n",
       "2671    72.00  70.376822\n",
       "4090    35.00  50.404064\n",
       "11737   45.00  50.905489\n",
       "9770    94.00  67.825793"
      ]
     },
     "execution_count": 90,
     "metadata": {},
     "output_type": "execute_result"
    }
   ],
   "source": [
    "gr_df = pd.DataFrame({'Actual':test_y,'Pred':gr_pred})\n",
    "gr_df.head()"
   ]
  },
  {
   "cell_type": "code",
   "execution_count": 91,
   "metadata": {},
   "outputs": [
    {
     "data": {
      "text/plain": [
       "0.5221274092077087"
      ]
     },
     "execution_count": 91,
     "metadata": {},
     "output_type": "execute_result"
    }
   ],
   "source": [
    "r2_gr = r2_score(test_y,gr_pred)\n",
    "r2_gr"
   ]
  },
  {
   "cell_type": "code",
   "execution_count": 125,
   "metadata": {},
   "outputs": [],
   "source": [
    "from sklearn.model_selection import RandomizedSearchCV"
   ]
  },
  {
   "cell_type": "code",
   "execution_count": 129,
   "metadata": {},
   "outputs": [
    {
     "data": {
      "text/plain": [
       "{'min_samples_split': 7, 'max_depth': 7}"
      ]
     },
     "execution_count": 129,
     "metadata": {},
     "output_type": "execute_result"
    }
   ],
   "source": [
    "rf_model = RandomForestRegressor()\n",
    "params ={'max_depth':list(range(3,11)), 'min_samples_split':[8,5, 6, 10,11, 12,7]}\n",
    "\n",
    "\n",
    "\n",
    "random_cv = RandomizedSearchCV(rf_model, params)\n",
    "random_cv.fit(train_x, train_y)\n",
    "random_cv.best_params_"
   ]
  },
  {
   "cell_type": "code",
   "execution_count": 205,
   "metadata": {},
   "outputs": [
    {
     "data": {
      "text/plain": [
       "{'n_estimators': 500, 'min_samples_split': 10, 'max_depth': 5, 'loss': 'huber'}"
      ]
     },
     "execution_count": 205,
     "metadata": {},
     "output_type": "execute_result"
    }
   ],
   "source": [
    "gr_model = GradientBoostingRegressor()\n",
    "params ={'max_depth':list(range(4,11)), 'loss' : ['ls', 'lad', 'huber', 'quantile'], 'min_samples_split':[8,5, 6, 10,11, 12,7],'n_estimators':[100,200,500,1000]}\n",
    "\n",
    "\n",
    "\n",
    "random_cv = RandomizedSearchCV(gr_model, params)\n",
    "random_cv.fit(train_x, train_y)\n",
    "random_cv.best_params_"
   ]
  },
  {
   "cell_type": "code",
   "execution_count": 272,
   "metadata": {},
   "outputs": [
    {
     "data": {
      "text/plain": [
       "array([58.11849805, 67.62041683, 49.91057782, 50.49819229, 66.17892379])"
      ]
     },
     "execution_count": 272,
     "metadata": {},
     "output_type": "execute_result"
    }
   ],
   "source": [
    "gr1_model = GradientBoostingRegressor(n_estimators=500,min_samples_split=10,max_depth=5,loss='huber')\n",
    "gr1_model.fit(train_x,train_y)\n",
    "\n",
    "gr1_pred = gr1_model.predict(test_x)\n",
    "gr1_pred[:5]"
   ]
  },
  {
   "cell_type": "code",
   "execution_count": 275,
   "metadata": {},
   "outputs": [
    {
     "data": {
      "text/html": [
       "<div>\n",
       "<style scoped>\n",
       "    .dataframe tbody tr th:only-of-type {\n",
       "        vertical-align: middle;\n",
       "    }\n",
       "\n",
       "    .dataframe tbody tr th {\n",
       "        vertical-align: top;\n",
       "    }\n",
       "\n",
       "    .dataframe thead th {\n",
       "        text-align: right;\n",
       "    }\n",
       "</style>\n",
       "<table border=\"1\" class=\"dataframe\">\n",
       "  <thead>\n",
       "    <tr style=\"text-align: right;\">\n",
       "      <th></th>\n",
       "      <th>Actual</th>\n",
       "      <th>Predict</th>\n",
       "    </tr>\n",
       "  </thead>\n",
       "  <tbody>\n",
       "    <tr>\n",
       "      <th>8296</th>\n",
       "      <td>46.79</td>\n",
       "      <td>58.118498</td>\n",
       "    </tr>\n",
       "    <tr>\n",
       "      <th>2671</th>\n",
       "      <td>72.00</td>\n",
       "      <td>67.620417</td>\n",
       "    </tr>\n",
       "    <tr>\n",
       "      <th>4090</th>\n",
       "      <td>35.00</td>\n",
       "      <td>49.910578</td>\n",
       "    </tr>\n",
       "    <tr>\n",
       "      <th>11737</th>\n",
       "      <td>45.00</td>\n",
       "      <td>50.498192</td>\n",
       "    </tr>\n",
       "    <tr>\n",
       "      <th>9770</th>\n",
       "      <td>94.00</td>\n",
       "      <td>66.178924</td>\n",
       "    </tr>\n",
       "  </tbody>\n",
       "</table>\n",
       "</div>"
      ],
      "text/plain": [
       "       Actual    Predict\n",
       "8296    46.79  58.118498\n",
       "2671    72.00  67.620417\n",
       "4090    35.00  49.910578\n",
       "11737   45.00  50.498192\n",
       "9770    94.00  66.178924"
      ]
     },
     "execution_count": 275,
     "metadata": {},
     "output_type": "execute_result"
    }
   ],
   "source": [
    "gr1_df = pd.DataFrame({'Actual':test_y,'Predict':gr1_pred})\n",
    "gr1_df.head()"
   ]
  },
  {
   "cell_type": "code",
   "execution_count": 276,
   "metadata": {},
   "outputs": [
    {
     "data": {
      "text/plain": [
       "9623.637065621297"
      ]
     },
     "execution_count": 276,
     "metadata": {},
     "output_type": "execute_result"
    }
   ],
   "source": [
    "gr1_mse = mean_squared_error(test_y,gr1_pred)\n",
    "gr1_mse"
   ]
  },
  {
   "cell_type": "code",
   "execution_count": 277,
   "metadata": {},
   "outputs": [
    {
     "data": {
      "text/plain": [
       "98.10013794904316"
      ]
     },
     "execution_count": 277,
     "metadata": {},
     "output_type": "execute_result"
    }
   ],
   "source": [
    "gr1_rmse = np.sqrt(gr1_mse)\n",
    "gr1_rmse"
   ]
  },
  {
   "cell_type": "code",
   "execution_count": 278,
   "metadata": {},
   "outputs": [
    {
     "data": {
      "text/plain": [
       "0.5253831092043555"
      ]
     },
     "execution_count": 278,
     "metadata": {},
     "output_type": "execute_result"
    }
   ],
   "source": [
    "gr1_r2 = r2_score(test_y,gr1_pred)\n",
    "gr1_r2"
   ]
  },
  {
   "cell_type": "code",
   "execution_count": null,
   "metadata": {},
   "outputs": [],
   "source": []
  },
  {
   "cell_type": "code",
   "execution_count": null,
   "metadata": {},
   "outputs": [],
   "source": []
  },
  {
   "cell_type": "code",
   "execution_count": 164,
   "metadata": {},
   "outputs": [
    {
     "data": {
      "text/html": [
       "<div>\n",
       "<style scoped>\n",
       "    .dataframe tbody tr th:only-of-type {\n",
       "        vertical-align: middle;\n",
       "    }\n",
       "\n",
       "    .dataframe tbody tr th {\n",
       "        vertical-align: top;\n",
       "    }\n",
       "\n",
       "    .dataframe thead th {\n",
       "        text-align: right;\n",
       "    }\n",
       "</style>\n",
       "<table border=\"1\" class=\"dataframe\">\n",
       "  <thead>\n",
       "    <tr style=\"text-align: right;\">\n",
       "      <th></th>\n",
       "      <th>area_type</th>\n",
       "      <th>availability</th>\n",
       "      <th>location</th>\n",
       "      <th>size</th>\n",
       "      <th>society</th>\n",
       "      <th>total_sqft</th>\n",
       "      <th>bath</th>\n",
       "      <th>balcony</th>\n",
       "      <th>price</th>\n",
       "    </tr>\n",
       "  </thead>\n",
       "  <tbody>\n",
       "    <tr>\n",
       "      <th>0</th>\n",
       "      <td>1</td>\n",
       "      <td>2</td>\n",
       "      <td>Electronic City Phase II</td>\n",
       "      <td>2</td>\n",
       "      <td>Coomee</td>\n",
       "      <td>1056.0</td>\n",
       "      <td>2.0</td>\n",
       "      <td>1.0</td>\n",
       "      <td>39.07</td>\n",
       "    </tr>\n",
       "    <tr>\n",
       "      <th>1</th>\n",
       "      <td>3</td>\n",
       "      <td>11</td>\n",
       "      <td>Chikka Tirupathi</td>\n",
       "      <td>4</td>\n",
       "      <td>Theanmp</td>\n",
       "      <td>2600.0</td>\n",
       "      <td>5.0</td>\n",
       "      <td>3.0</td>\n",
       "      <td>120.00</td>\n",
       "    </tr>\n",
       "    <tr>\n",
       "      <th>2</th>\n",
       "      <td>2</td>\n",
       "      <td>11</td>\n",
       "      <td>Uttarahalli</td>\n",
       "      <td>3</td>\n",
       "      <td>Theanmp</td>\n",
       "      <td>1440.0</td>\n",
       "      <td>2.0</td>\n",
       "      <td>3.0</td>\n",
       "      <td>62.00</td>\n",
       "    </tr>\n",
       "    <tr>\n",
       "      <th>3</th>\n",
       "      <td>1</td>\n",
       "      <td>11</td>\n",
       "      <td>Lingadheeranahalli</td>\n",
       "      <td>3</td>\n",
       "      <td>Soiewre</td>\n",
       "      <td>1521.0</td>\n",
       "      <td>3.0</td>\n",
       "      <td>1.0</td>\n",
       "      <td>95.00</td>\n",
       "    </tr>\n",
       "    <tr>\n",
       "      <th>4</th>\n",
       "      <td>1</td>\n",
       "      <td>11</td>\n",
       "      <td>Kothanur</td>\n",
       "      <td>2</td>\n",
       "      <td>Soiewre</td>\n",
       "      <td>1200.0</td>\n",
       "      <td>2.0</td>\n",
       "      <td>1.0</td>\n",
       "      <td>51.00</td>\n",
       "    </tr>\n",
       "  </tbody>\n",
       "</table>\n",
       "</div>"
      ],
      "text/plain": [
       "   area_type  availability                  location  size  society  \\\n",
       "0          1             2  Electronic City Phase II     2  Coomee    \n",
       "1          3            11          Chikka Tirupathi     4  Theanmp   \n",
       "2          2            11               Uttarahalli     3  Theanmp   \n",
       "3          1            11        Lingadheeranahalli     3  Soiewre   \n",
       "4          1            11                  Kothanur     2  Soiewre   \n",
       "\n",
       "   total_sqft  bath  balcony   price  \n",
       "0      1056.0   2.0      1.0   39.07  \n",
       "1      2600.0   5.0      3.0  120.00  \n",
       "2      1440.0   2.0      3.0   62.00  \n",
       "3      1521.0   3.0      1.0   95.00  \n",
       "4      1200.0   2.0      1.0   51.00  "
      ]
     },
     "execution_count": 164,
     "metadata": {},
     "output_type": "execute_result"
    }
   ],
   "source": [
    "train_data.head()"
   ]
  },
  {
   "cell_type": "code",
   "execution_count": 165,
   "metadata": {},
   "outputs": [
    {
     "data": {
      "text/plain": [
       "area_type         int64\n",
       "availability      int64\n",
       "location         object\n",
       "size              int32\n",
       "society          object\n",
       "total_sqft      float64\n",
       "bath            float64\n",
       "balcony         float64\n",
       "price           float64\n",
       "dtype: object"
      ]
     },
     "execution_count": 165,
     "metadata": {},
     "output_type": "execute_result"
    }
   ],
   "source": [
    "train_data.dtypes"
   ]
  },
  {
   "cell_type": "code",
   "execution_count": 166,
   "metadata": {},
   "outputs": [],
   "source": [
    "train_dummy = pd.get_dummies(train_data)"
   ]
  },
  {
   "cell_type": "code",
   "execution_count": 168,
   "metadata": {},
   "outputs": [],
   "source": [
    "train,test = train_test_split(train_dummy,test_size=.33,random_state=33)"
   ]
  },
  {
   "cell_type": "code",
   "execution_count": 169,
   "metadata": {},
   "outputs": [],
   "source": [
    "ytrain = train['price']\n",
    "ytest = test['price']\n",
    "\n",
    "xtrain = train.drop('price',axis = 1)\n",
    "xtest = test.drop('price',axis=1)"
   ]
  },
  {
   "cell_type": "code",
   "execution_count": 171,
   "metadata": {},
   "outputs": [
    {
     "data": {
      "text/plain": [
       "array([ 44.96750764, 228.22306423,  30.80713008,  35.76859104,\n",
       "       140.5914107 ])"
      ]
     },
     "execution_count": 171,
     "metadata": {},
     "output_type": "execute_result"
    }
   ],
   "source": [
    "lm_d = LinearRegression()\n",
    "lm_d.fit(xtrain,ytrain)\n",
    "\n",
    "lm_pred = lm_d.predict(xtest)\n",
    "lm_pred[:5]"
   ]
  },
  {
   "cell_type": "code",
   "execution_count": 173,
   "metadata": {},
   "outputs": [
    {
     "data": {
      "text/plain": [
       "17010.205084199584"
      ]
     },
     "execution_count": 173,
     "metadata": {},
     "output_type": "execute_result"
    }
   ],
   "source": [
    "mse_lm1 = mean_squared_error(ytest,lm_pred)\n",
    "mse_lm1"
   ]
  },
  {
   "cell_type": "code",
   "execution_count": 174,
   "metadata": {},
   "outputs": [
    {
     "data": {
      "text/plain": [
       "130.423176944129"
      ]
     },
     "execution_count": 174,
     "metadata": {},
     "output_type": "execute_result"
    }
   ],
   "source": [
    "rmse_lm1 = np.sqrt(mse_lm1)\n",
    "rmse_lm1"
   ]
  },
  {
   "cell_type": "code",
   "execution_count": 175,
   "metadata": {},
   "outputs": [
    {
     "data": {
      "text/plain": [
       "0.2753148151806871"
      ]
     },
     "execution_count": 175,
     "metadata": {},
     "output_type": "execute_result"
    }
   ],
   "source": [
    "r2 = r2_score(ytest,lm_pred)\n",
    "r2"
   ]
  },
  {
   "cell_type": "code",
   "execution_count": 181,
   "metadata": {},
   "outputs": [
    {
     "data": {
      "text/plain": [
       "array([ 47.44      , 360.        ,  54.091     ,  51.825     ,\n",
       "       107.80424524])"
      ]
     },
     "execution_count": 181,
     "metadata": {},
     "output_type": "execute_result"
    }
   ],
   "source": [
    "rf2 = RandomForestRegressor()\n",
    "\n",
    "rf2.fit(xtrain,ytrain)\n",
    "rf2_pred = rf2.predict(xtest)\n",
    "rf2_pred[:5]\n"
   ]
  },
  {
   "cell_type": "code",
   "execution_count": 186,
   "metadata": {},
   "outputs": [
    {
     "data": {
      "text/html": [
       "<div>\n",
       "<style scoped>\n",
       "    .dataframe tbody tr th:only-of-type {\n",
       "        vertical-align: middle;\n",
       "    }\n",
       "\n",
       "    .dataframe tbody tr th {\n",
       "        vertical-align: top;\n",
       "    }\n",
       "\n",
       "    .dataframe thead th {\n",
       "        text-align: right;\n",
       "    }\n",
       "</style>\n",
       "<table border=\"1\" class=\"dataframe\">\n",
       "  <thead>\n",
       "    <tr style=\"text-align: right;\">\n",
       "      <th></th>\n",
       "      <th>Actual</th>\n",
       "      <th>Pred</th>\n",
       "    </tr>\n",
       "  </thead>\n",
       "  <tbody>\n",
       "    <tr>\n",
       "      <th>2129</th>\n",
       "      <td>37.8</td>\n",
       "      <td>47.440000</td>\n",
       "    </tr>\n",
       "    <tr>\n",
       "      <th>1038</th>\n",
       "      <td>225.0</td>\n",
       "      <td>360.000000</td>\n",
       "    </tr>\n",
       "    <tr>\n",
       "      <th>10135</th>\n",
       "      <td>39.0</td>\n",
       "      <td>54.091000</td>\n",
       "    </tr>\n",
       "    <tr>\n",
       "      <th>8656</th>\n",
       "      <td>51.1</td>\n",
       "      <td>51.825000</td>\n",
       "    </tr>\n",
       "    <tr>\n",
       "      <th>8155</th>\n",
       "      <td>113.0</td>\n",
       "      <td>107.804245</td>\n",
       "    </tr>\n",
       "  </tbody>\n",
       "</table>\n",
       "</div>"
      ],
      "text/plain": [
       "       Actual        Pred\n",
       "2129     37.8   47.440000\n",
       "1038    225.0  360.000000\n",
       "10135    39.0   54.091000\n",
       "8656     51.1   51.825000\n",
       "8155    113.0  107.804245"
      ]
     },
     "execution_count": 186,
     "metadata": {},
     "output_type": "execute_result"
    }
   ],
   "source": [
    "rf_df = pd.DataFrame({'Actual':ytest,'Pred':rf2_pred})\n",
    "rf_df.head(5)"
   ]
  },
  {
   "cell_type": "code",
   "execution_count": 182,
   "metadata": {},
   "outputs": [
    {
     "data": {
      "text/plain": [
       "8681.864386736393"
      ]
     },
     "execution_count": 182,
     "metadata": {},
     "output_type": "execute_result"
    }
   ],
   "source": [
    "mse_rf2 = mean_squared_error(ytest,rf2_pred)\n",
    "mse_rf2"
   ]
  },
  {
   "cell_type": "code",
   "execution_count": 183,
   "metadata": {},
   "outputs": [
    {
     "data": {
      "text/plain": [
       "93.17652272292841"
      ]
     },
     "execution_count": 183,
     "metadata": {},
     "output_type": "execute_result"
    }
   ],
   "source": [
    "rf2_rmse = np.sqrt(mse_rf2)\n",
    "rf2_rmse"
   ]
  },
  {
   "cell_type": "code",
   "execution_count": 184,
   "metadata": {},
   "outputs": [
    {
     "data": {
      "text/plain": [
       "0.6301268287751318"
      ]
     },
     "execution_count": 184,
     "metadata": {},
     "output_type": "execute_result"
    }
   ],
   "source": [
    "rf2r = r2_score(ytest,rf2_pred)\n",
    "rf2r"
   ]
  },
  {
   "cell_type": "code",
   "execution_count": 188,
   "metadata": {},
   "outputs": [
    {
     "data": {
      "text/plain": [
       "array([ 51.42470049, 388.24623564,  54.76030969,  69.10628556,\n",
       "       103.8298603 ])"
      ]
     },
     "execution_count": 188,
     "metadata": {},
     "output_type": "execute_result"
    }
   ],
   "source": [
    "gr2 = GradientBoostingRegressor()\n",
    "\n",
    "gr2.fit(xtrain,ytrain)\n",
    "\n",
    "gr2_pred = gr2.predict(xtest)\n",
    "gr2_pred[:5]"
   ]
  },
  {
   "cell_type": "code",
   "execution_count": 189,
   "metadata": {},
   "outputs": [
    {
     "data": {
      "text/html": [
       "<div>\n",
       "<style scoped>\n",
       "    .dataframe tbody tr th:only-of-type {\n",
       "        vertical-align: middle;\n",
       "    }\n",
       "\n",
       "    .dataframe tbody tr th {\n",
       "        vertical-align: top;\n",
       "    }\n",
       "\n",
       "    .dataframe thead th {\n",
       "        text-align: right;\n",
       "    }\n",
       "</style>\n",
       "<table border=\"1\" class=\"dataframe\">\n",
       "  <thead>\n",
       "    <tr style=\"text-align: right;\">\n",
       "      <th></th>\n",
       "      <th>Actual</th>\n",
       "      <th>Pred</th>\n",
       "    </tr>\n",
       "  </thead>\n",
       "  <tbody>\n",
       "    <tr>\n",
       "      <th>2129</th>\n",
       "      <td>37.8</td>\n",
       "      <td>51.424700</td>\n",
       "    </tr>\n",
       "    <tr>\n",
       "      <th>1038</th>\n",
       "      <td>225.0</td>\n",
       "      <td>388.246236</td>\n",
       "    </tr>\n",
       "    <tr>\n",
       "      <th>10135</th>\n",
       "      <td>39.0</td>\n",
       "      <td>54.760310</td>\n",
       "    </tr>\n",
       "    <tr>\n",
       "      <th>8656</th>\n",
       "      <td>51.1</td>\n",
       "      <td>69.106286</td>\n",
       "    </tr>\n",
       "    <tr>\n",
       "      <th>8155</th>\n",
       "      <td>113.0</td>\n",
       "      <td>103.829860</td>\n",
       "    </tr>\n",
       "  </tbody>\n",
       "</table>\n",
       "</div>"
      ],
      "text/plain": [
       "       Actual        Pred\n",
       "2129     37.8   51.424700\n",
       "1038    225.0  388.246236\n",
       "10135    39.0   54.760310\n",
       "8656     51.1   69.106286\n",
       "8155    113.0  103.829860"
      ]
     },
     "execution_count": 189,
     "metadata": {},
     "output_type": "execute_result"
    }
   ],
   "source": [
    "gr2_df = pd.DataFrame({'Actual':ytest,'Pred':gr2_pred})\n",
    "gr2_df.head()"
   ]
  },
  {
   "cell_type": "code",
   "execution_count": 190,
   "metadata": {},
   "outputs": [
    {
     "data": {
      "text/plain": [
       "8681.864386736393"
      ]
     },
     "execution_count": 190,
     "metadata": {},
     "output_type": "execute_result"
    }
   ],
   "source": [
    "gr2_mse = mean_squared_error(ytest,rf2_pred)\n",
    "gr2_mse"
   ]
  },
  {
   "cell_type": "code",
   "execution_count": 191,
   "metadata": {},
   "outputs": [
    {
     "data": {
      "text/plain": [
       "93.17652272292841"
      ]
     },
     "execution_count": 191,
     "metadata": {},
     "output_type": "execute_result"
    }
   ],
   "source": [
    "gr2_rmse = np.sqrt(gr2_mse)\n",
    "gr2_rmse"
   ]
  },
  {
   "cell_type": "code",
   "execution_count": 192,
   "metadata": {},
   "outputs": [
    {
     "data": {
      "text/plain": [
       "0.6301268287751318"
      ]
     },
     "execution_count": 192,
     "metadata": {},
     "output_type": "execute_result"
    }
   ],
   "source": [
    "gr2_r2 = r2_score(ytest,rf2_pred)\n",
    "gr2_r2"
   ]
  },
  {
   "cell_type": "code",
   "execution_count": 202,
   "metadata": {},
   "outputs": [
    {
     "name": "stderr",
     "output_type": "stream",
     "text": [
      "C:\\Users\\Dhiru\\Anaconda3\\lib\\site-packages\\scipy\\stats\\stats.py:1713: FutureWarning: Using a non-tuple sequence for multidimensional indexing is deprecated; use `arr[tuple(seq)]` instead of `arr[seq]`. In the future this will be interpreted as an array index, `arr[np.array(seq)]`, which will result either in an error or a different result.\n",
      "  return np.add.reduce(sorted[indexer] * weights, axis=axis) / sumval\n"
     ]
    },
    {
     "data": {
      "image/png": "[encoded data removed]",
      "text/plain": [
       "<Figure size 432x432 with 3 Axes>"
      ]
     },
     "metadata": {
      "needs_background": "light"
     },
     "output_type": "display_data"
    }
   ],
   "source": [
    "sns.jointplot(x='Actual',y='Pred',data=gr2_df)\n",
    "plt.show()"
   ]
  },
  {
   "cell_type": "code",
   "execution_count": 193,
   "metadata": {},
   "outputs": [],
   "source": [
    "import statsmodels.formula.api as smf"
   ]
  },
  {
   "cell_type": "code",
   "execution_count": 197,
   "metadata": {},
   "outputs": [],
   "source": [
    "lm = smf.ols('price~area_type+availability+size+total_sqft+bath+balcony',train_data).fit()"
   ]
  },
  {
   "cell_type": "code",
   "execution_count": 200,
   "metadata": {},
   "outputs": [
    {
     "name": "stdout",
     "output_type": "stream",
     "text": [
      "                            OLS Regression Results                            \n",
      "==============================================================================\n",
      "Dep. Variable:                  price   R-squared:                       0.210\n",
      "Model:                            OLS   Adj. R-squared:                  0.210\n",
      "Method:                 Least Squares   F-statistic:                     590.4\n",
      "Date:                Sat, 12 Jan 2019   Prob (F-statistic):               0.00\n",
      "Time:                        14:11:58   Log-Likelihood:                -83978.\n",
      "No. Observations:               13320   AIC:                         1.680e+05\n",
      "Df Residuals:                   13313   BIC:                         1.680e+05\n",
      "Df Model:                           6                                         \n",
      "Covariance Type:            nonrobust                                         \n",
      "================================================================================\n",
      "                   coef    std err          t      P>|t|      [0.025      0.975]\n",
      "--------------------------------------------------------------------------------\n",
      "Intercept      -32.7147      4.369     -7.488      0.000     -41.279     -24.151\n",
      "area_type       19.5274      1.647     11.857      0.000      16.299      22.755\n",
      "availability    -0.4593      0.312     -1.471      0.141      -1.072       0.153\n",
      "size            -3.9726      1.943     -2.045      0.041      -7.781      -0.164\n",
      "total_sqft       0.0002   6.65e-05      3.056      0.002    7.29e-05       0.000\n",
      "bath            48.9728      1.842     26.584      0.000      45.362      52.584\n",
      "balcony         -0.2115      1.365     -0.155      0.877      -2.888       2.465\n",
      "==============================================================================\n",
      "Omnibus:                    19090.903   Durbin-Watson:                   2.024\n",
      "Prob(Omnibus):                  0.000   Jarque-Bera (JB):          8691121.333\n",
      "Skew:                           8.465   Prob(JB):                         0.00\n",
      "Kurtosis:                     126.988   Cond. No.                     6.76e+04\n",
      "==============================================================================\n",
      "\n",
      "Warnings:\n",
      "[1] Standard Errors assume that the covariance matrix of the errors is correctly specified.\n",
      "[2] The condition number is large, 6.76e+04. This might indicate that there are\n",
      "strong multicollinearity or other numerical problems.\n"
     ]
    }
   ],
   "source": [
    "print(lm.summary())"
   ]
  },
  {
   "cell_type": "code",
   "execution_count": 206,
   "metadata": {},
   "outputs": [
    {
     "data": {
      "text/html": [
       "<div>\n",
       "<style scoped>\n",
       "    .dataframe tbody tr th:only-of-type {\n",
       "        vertical-align: middle;\n",
       "    }\n",
       "\n",
       "    .dataframe tbody tr th {\n",
       "        vertical-align: top;\n",
       "    }\n",
       "\n",
       "    .dataframe thead th {\n",
       "        text-align: right;\n",
       "    }\n",
       "</style>\n",
       "<table border=\"1\" class=\"dataframe\">\n",
       "  <thead>\n",
       "    <tr style=\"text-align: right;\">\n",
       "      <th></th>\n",
       "      <th>area_type</th>\n",
       "      <th>availability</th>\n",
       "      <th>location</th>\n",
       "      <th>size</th>\n",
       "      <th>society</th>\n",
       "      <th>total_sqft</th>\n",
       "      <th>bath</th>\n",
       "      <th>balcony</th>\n",
       "      <th>price</th>\n",
       "    </tr>\n",
       "  </thead>\n",
       "  <tbody>\n",
       "    <tr>\n",
       "      <th>0</th>\n",
       "      <td>1</td>\n",
       "      <td>2</td>\n",
       "      <td>Electronic City Phase II</td>\n",
       "      <td>2</td>\n",
       "      <td>Coomee</td>\n",
       "      <td>1056.0</td>\n",
       "      <td>2.0</td>\n",
       "      <td>1.0</td>\n",
       "      <td>39.07</td>\n",
       "    </tr>\n",
       "    <tr>\n",
       "      <th>1</th>\n",
       "      <td>3</td>\n",
       "      <td>11</td>\n",
       "      <td>Chikka Tirupathi</td>\n",
       "      <td>4</td>\n",
       "      <td>Theanmp</td>\n",
       "      <td>2600.0</td>\n",
       "      <td>5.0</td>\n",
       "      <td>3.0</td>\n",
       "      <td>120.00</td>\n",
       "    </tr>\n",
       "  </tbody>\n",
       "</table>\n",
       "</div>"
      ],
      "text/plain": [
       "   area_type  availability                  location  size  society  \\\n",
       "0          1             2  Electronic City Phase II     2  Coomee    \n",
       "1          3            11          Chikka Tirupathi     4  Theanmp   \n",
       "\n",
       "   total_sqft  bath  balcony   price  \n",
       "0      1056.0   2.0      1.0   39.07  \n",
       "1      2600.0   5.0      3.0  120.00  "
      ]
     },
     "execution_count": 206,
     "metadata": {},
     "output_type": "execute_result"
    }
   ],
   "source": [
    "train_data.head(2)"
   ]
  },
  {
   "cell_type": "code",
   "execution_count": 207,
   "metadata": {},
   "outputs": [],
   "source": [
    "new_df = train_data.drop('society',axis=1)"
   ]
  },
  {
   "cell_type": "code",
   "execution_count": 208,
   "metadata": {},
   "outputs": [
    {
     "data": {
      "text/html": [
       "<div>\n",
       "<style scoped>\n",
       "    .dataframe tbody tr th:only-of-type {\n",
       "        vertical-align: middle;\n",
       "    }\n",
       "\n",
       "    .dataframe tbody tr th {\n",
       "        vertical-align: top;\n",
       "    }\n",
       "\n",
       "    .dataframe thead th {\n",
       "        text-align: right;\n",
       "    }\n",
       "</style>\n",
       "<table border=\"1\" class=\"dataframe\">\n",
       "  <thead>\n",
       "    <tr style=\"text-align: right;\">\n",
       "      <th></th>\n",
       "      <th>area_type</th>\n",
       "      <th>availability</th>\n",
       "      <th>location</th>\n",
       "      <th>size</th>\n",
       "      <th>total_sqft</th>\n",
       "      <th>bath</th>\n",
       "      <th>balcony</th>\n",
       "      <th>price</th>\n",
       "    </tr>\n",
       "  </thead>\n",
       "  <tbody>\n",
       "    <tr>\n",
       "      <th>0</th>\n",
       "      <td>1</td>\n",
       "      <td>2</td>\n",
       "      <td>Electronic City Phase II</td>\n",
       "      <td>2</td>\n",
       "      <td>1056.0</td>\n",
       "      <td>2.0</td>\n",
       "      <td>1.0</td>\n",
       "      <td>39.07</td>\n",
       "    </tr>\n",
       "    <tr>\n",
       "      <th>1</th>\n",
       "      <td>3</td>\n",
       "      <td>11</td>\n",
       "      <td>Chikka Tirupathi</td>\n",
       "      <td>4</td>\n",
       "      <td>2600.0</td>\n",
       "      <td>5.0</td>\n",
       "      <td>3.0</td>\n",
       "      <td>120.00</td>\n",
       "    </tr>\n",
       "  </tbody>\n",
       "</table>\n",
       "</div>"
      ],
      "text/plain": [
       "   area_type  availability                  location  size  total_sqft  bath  \\\n",
       "0          1             2  Electronic City Phase II     2      1056.0   2.0   \n",
       "1          3            11          Chikka Tirupathi     4      2600.0   5.0   \n",
       "\n",
       "   balcony   price  \n",
       "0      1.0   39.07  \n",
       "1      3.0  120.00  "
      ]
     },
     "execution_count": 208,
     "metadata": {},
     "output_type": "execute_result"
    }
   ],
   "source": [
    "new_df.head(2)"
   ]
  },
  {
   "cell_type": "code",
   "execution_count": 210,
   "metadata": {},
   "outputs": [],
   "source": [
    "new_df['location'].value_counts()"
   ]
  },
  {
   "cell_type": "code",
   "execution_count": 212,
   "metadata": {},
   "outputs": [],
   "source": [
    "new_df['location'] = LabelEncoder().fit_transform(new_df['location'].values)"
   ]
  },
  {
   "cell_type": "code",
   "execution_count": 223,
   "metadata": {},
   "outputs": [
    {
     "data": {
      "text/plain": [
       "count    13320.000000\n",
       "mean       672.639039\n",
       "std        364.997484\n",
       "min          0.000000\n",
       "25%        397.000000\n",
       "50%        654.000000\n",
       "75%        999.000000\n",
       "max       1304.000000\n",
       "Name: location, dtype: float64"
      ]
     },
     "execution_count": 223,
     "metadata": {},
     "output_type": "execute_result"
    }
   ],
   "source": [
    "new_df['location'].describe()"
   ]
  },
  {
   "cell_type": "code",
   "execution_count": 222,
   "metadata": {},
   "outputs": [
    {
     "data": {
      "image/png": "[encoded data removed]",
      "text/plain": [
       "<Figure size 432x288 with 1 Axes>"
      ]
     },
     "metadata": {
      "needs_background": "light"
     },
     "output_type": "display_data"
    }
   ],
   "source": [
    "plt.boxplot(new_df['location'])\n",
    "plt.show()"
   ]
  },
  {
   "cell_type": "code",
   "execution_count": 213,
   "metadata": {},
   "outputs": [
    {
     "data": {
      "text/plain": [
       "area_type         int64\n",
       "availability      int64\n",
       "location          int64\n",
       "size              int32\n",
       "total_sqft      float64\n",
       "bath            float64\n",
       "balcony         float64\n",
       "price           float64\n",
       "dtype: object"
      ]
     },
     "execution_count": 213,
     "metadata": {},
     "output_type": "execute_result"
    }
   ],
   "source": [
    "new_df.dtypes"
   ]
  },
  {
   "cell_type": "code",
   "execution_count": 214,
   "metadata": {},
   "outputs": [],
   "source": [
    "train,test = train_test_split(new_df,test_size = .33,random_state = 100)"
   ]
  },
  {
   "cell_type": "code",
   "execution_count": 215,
   "metadata": {},
   "outputs": [],
   "source": [
    "xtrain = train.drop('price',axis=1)\n",
    "xtest = test.drop('price',axis=1)\n",
    "\n",
    "ytrain = train['price']\n",
    "ytest = test['price']"
   ]
  },
  {
   "cell_type": "code",
   "execution_count": 216,
   "metadata": {},
   "outputs": [
    {
     "data": {
      "text/plain": [
       "array([46.21466667, 40.52808333, 50.3       , 31.095     , 83.4       ])"
      ]
     },
     "execution_count": 216,
     "metadata": {},
     "output_type": "execute_result"
    }
   ],
   "source": [
    "mod = RandomForestRegressor()\n",
    "mod.fit(xtrain,ytrain)\n",
    "\n",
    "pred_rf3 = mod.predict(xtest)\n",
    "pred_rf3[:5]"
   ]
  },
  {
   "cell_type": "code",
   "execution_count": 217,
   "metadata": {},
   "outputs": [
    {
     "data": {
      "text/html": [
       "<div>\n",
       "<style scoped>\n",
       "    .dataframe tbody tr th:only-of-type {\n",
       "        vertical-align: middle;\n",
       "    }\n",
       "\n",
       "    .dataframe tbody tr th {\n",
       "        vertical-align: top;\n",
       "    }\n",
       "\n",
       "    .dataframe thead th {\n",
       "        text-align: right;\n",
       "    }\n",
       "</style>\n",
       "<table border=\"1\" class=\"dataframe\">\n",
       "  <thead>\n",
       "    <tr style=\"text-align: right;\">\n",
       "      <th></th>\n",
       "      <th>Actual</th>\n",
       "      <th>Predict</th>\n",
       "    </tr>\n",
       "  </thead>\n",
       "  <tbody>\n",
       "    <tr>\n",
       "      <th>8296</th>\n",
       "      <td>46.79</td>\n",
       "      <td>46.214667</td>\n",
       "    </tr>\n",
       "    <tr>\n",
       "      <th>2671</th>\n",
       "      <td>72.00</td>\n",
       "      <td>40.528083</td>\n",
       "    </tr>\n",
       "    <tr>\n",
       "      <th>4090</th>\n",
       "      <td>35.00</td>\n",
       "      <td>50.300000</td>\n",
       "    </tr>\n",
       "    <tr>\n",
       "      <th>11737</th>\n",
       "      <td>45.00</td>\n",
       "      <td>31.095000</td>\n",
       "    </tr>\n",
       "    <tr>\n",
       "      <th>9770</th>\n",
       "      <td>94.00</td>\n",
       "      <td>83.400000</td>\n",
       "    </tr>\n",
       "  </tbody>\n",
       "</table>\n",
       "</div>"
      ],
      "text/plain": [
       "       Actual    Predict\n",
       "8296    46.79  46.214667\n",
       "2671    72.00  40.528083\n",
       "4090    35.00  50.300000\n",
       "11737   45.00  31.095000\n",
       "9770    94.00  83.400000"
      ]
     },
     "execution_count": 217,
     "metadata": {},
     "output_type": "execute_result"
    }
   ],
   "source": [
    "mod_df =pd.DataFrame({'Actual':ytest,'Predict':pred_rf3})\n",
    "mod_df.head(5)"
   ]
  },
  {
   "cell_type": "code",
   "execution_count": 218,
   "metadata": {},
   "outputs": [
    {
     "data": {
      "text/plain": [
       "8982.151715087924"
      ]
     },
     "execution_count": 218,
     "metadata": {},
     "output_type": "execute_result"
    }
   ],
   "source": [
    "mse_mod = mean_squared_error(ytest,pred_rf3)\n",
    "mse_mod"
   ]
  },
  {
   "cell_type": "code",
   "execution_count": 219,
   "metadata": {},
   "outputs": [
    {
     "data": {
      "text/plain": [
       "94.7742143997402"
      ]
     },
     "execution_count": 219,
     "metadata": {},
     "output_type": "execute_result"
    }
   ],
   "source": [
    "rmse_mod = np.sqrt(mse_mod)\n",
    "rmse_mod"
   ]
  },
  {
   "cell_type": "code",
   "execution_count": 220,
   "metadata": {},
   "outputs": [
    {
     "data": {
      "text/plain": [
       "0.558395306895332"
      ]
     },
     "execution_count": 220,
     "metadata": {},
     "output_type": "execute_result"
    }
   ],
   "source": [
    "r2_mod = r2_score(ytest,pred_rf3)\n",
    "r2_mod"
   ]
  },
  {
   "cell_type": "code",
   "execution_count": null,
   "metadata": {},
   "outputs": [],
   "source": [
    "mod = RandomForestRegressor()\n",
    "mod.fit(xtrain,ytrain)\n",
    "\n",
    "pred_rf3 = mod.predict(xtest)\n",
    "pred_rf3[:5]"
   ]
  },
  {
   "cell_type": "code",
   "execution_count": 224,
   "metadata": {},
   "outputs": [],
   "source": [
    "test_data = pd.read_csv(\"D:/Second_Sem/Second_Sem/Self_Prac/MachineHack/houseprice/Predicting-House-Prices-In-Bengaluru-Test-Data.csv\")"
   ]
  },
  {
   "cell_type": "code",
   "execution_count": 225,
   "metadata": {},
   "outputs": [
    {
     "data": {
      "text/html": [
       "<div>\n",
       "<style scoped>\n",
       "    .dataframe tbody tr th:only-of-type {\n",
       "        vertical-align: middle;\n",
       "    }\n",
       "\n",
       "    .dataframe tbody tr th {\n",
       "        vertical-align: top;\n",
       "    }\n",
       "\n",
       "    .dataframe thead th {\n",
       "        text-align: right;\n",
       "    }\n",
       "</style>\n",
       "<table border=\"1\" class=\"dataframe\">\n",
       "  <thead>\n",
       "    <tr style=\"text-align: right;\">\n",
       "      <th></th>\n",
       "      <th>area_type</th>\n",
       "      <th>availability</th>\n",
       "      <th>location</th>\n",
       "      <th>size</th>\n",
       "      <th>society</th>\n",
       "      <th>total_sqft</th>\n",
       "      <th>bath</th>\n",
       "      <th>balcony</th>\n",
       "      <th>price</th>\n",
       "    </tr>\n",
       "  </thead>\n",
       "  <tbody>\n",
       "    <tr>\n",
       "      <th>0</th>\n",
       "      <td>Super built-up  Area</td>\n",
       "      <td>Ready To Move</td>\n",
       "      <td>Brookefield</td>\n",
       "      <td>2 BHK</td>\n",
       "      <td>Roeekbl</td>\n",
       "      <td>1225</td>\n",
       "      <td>2.0</td>\n",
       "      <td>2.0</td>\n",
       "      <td>NaN</td>\n",
       "    </tr>\n",
       "    <tr>\n",
       "      <th>1</th>\n",
       "      <td>Plot  Area</td>\n",
       "      <td>Ready To Move</td>\n",
       "      <td>Akshaya Nagar</td>\n",
       "      <td>9 Bedroom</td>\n",
       "      <td>NaN</td>\n",
       "      <td>2400</td>\n",
       "      <td>9.0</td>\n",
       "      <td>2.0</td>\n",
       "      <td>NaN</td>\n",
       "    </tr>\n",
       "    <tr>\n",
       "      <th>2</th>\n",
       "      <td>Plot  Area</td>\n",
       "      <td>18-Apr</td>\n",
       "      <td>Hennur Road</td>\n",
       "      <td>4 Bedroom</td>\n",
       "      <td>Saandtt</td>\n",
       "      <td>1650</td>\n",
       "      <td>5.0</td>\n",
       "      <td>2.0</td>\n",
       "      <td>NaN</td>\n",
       "    </tr>\n",
       "    <tr>\n",
       "      <th>3</th>\n",
       "      <td>Super built-up  Area</td>\n",
       "      <td>Ready To Move</td>\n",
       "      <td>Kodichikkanahalli</td>\n",
       "      <td>3 BHK</td>\n",
       "      <td>Winerri</td>\n",
       "      <td>1322</td>\n",
       "      <td>3.0</td>\n",
       "      <td>1.0</td>\n",
       "      <td>NaN</td>\n",
       "    </tr>\n",
       "    <tr>\n",
       "      <th>4</th>\n",
       "      <td>Super built-up  Area</td>\n",
       "      <td>Ready To Move</td>\n",
       "      <td>Konanakunte</td>\n",
       "      <td>2 BHK</td>\n",
       "      <td>AmageSa</td>\n",
       "      <td>1161</td>\n",
       "      <td>2.0</td>\n",
       "      <td>1.0</td>\n",
       "      <td>NaN</td>\n",
       "    </tr>\n",
       "  </tbody>\n",
       "</table>\n",
       "</div>"
      ],
      "text/plain": [
       "              area_type   availability           location       size  society  \\\n",
       "0  Super built-up  Area  Ready To Move        Brookefield      2 BHK  Roeekbl   \n",
       "1            Plot  Area  Ready To Move      Akshaya Nagar  9 Bedroom      NaN   \n",
       "2            Plot  Area         18-Apr        Hennur Road  4 Bedroom  Saandtt   \n",
       "3  Super built-up  Area  Ready To Move  Kodichikkanahalli      3 BHK  Winerri   \n",
       "4  Super built-up  Area  Ready To Move        Konanakunte      2 BHK  AmageSa   \n",
       "\n",
       "  total_sqft  bath  balcony  price  \n",
       "0       1225   2.0      2.0    NaN  \n",
       "1       2400   9.0      2.0    NaN  \n",
       "2       1650   5.0      2.0    NaN  \n",
       "3       1322   3.0      1.0    NaN  \n",
       "4       1161   2.0      1.0    NaN  "
      ]
     },
     "execution_count": 225,
     "metadata": {},
     "output_type": "execute_result"
    }
   ],
   "source": [
    "test_data.head()"
   ]
  },
  {
   "cell_type": "code",
   "execution_count": 227,
   "metadata": {},
   "outputs": [],
   "source": [
    "test_data.drop('price',axis=1,inplace=True)"
   ]
  },
  {
   "cell_type": "code",
   "execution_count": 231,
   "metadata": {},
   "outputs": [
    {
     "data": {
      "text/plain": [
       "area_type       0\n",
       "availability    0\n",
       "location        0\n",
       "size            0\n",
       "society         0\n",
       "total_sqft      0\n",
       "bath            0\n",
       "balcony         0\n",
       "dtype: int64"
      ]
     },
     "execution_count": 231,
     "metadata": {},
     "output_type": "execute_result"
    }
   ],
   "source": [
    "test_data.isnull().sum()"
   ]
  },
  {
   "cell_type": "code",
   "execution_count": 281,
   "metadata": {},
   "outputs": [],
   "source": [
    "test_data['bath'].fillna(0,inplace=True)\n",
    "test_data['balcony'].fillna(0,inplace=True)\n",
    "test_data['size'].fillna(0,inplace=True)"
   ]
  },
  {
   "cell_type": "code",
   "execution_count": 230,
   "metadata": {},
   "outputs": [],
   "source": [
    "test_data['society'].fillna(method = 'ffill',inplace=True)\n",
    "test_data['location'].fillna(method = 'ffill',inplace=True)"
   ]
  },
  {
   "cell_type": "code",
   "execution_count": 232,
   "metadata": {},
   "outputs": [],
   "source": [
    "test_data['area_type'] = test_data['area_type'].replace({'Super built-up  Area':1})"
   ]
  },
  {
   "cell_type": "code",
   "execution_count": 233,
   "metadata": {},
   "outputs": [],
   "source": [
    "test_data['area_type'] = test_data['area_type'].replace({'Built-up  Area':2,'Plot  Area':3,'Carpet  Area':4})"
   ]
  },
  {
   "cell_type": "code",
   "execution_count": 234,
   "metadata": {},
   "outputs": [],
   "source": [
    "test_data['location'] = LabelEncoder().fit_transform(test_data['location'].values)"
   ]
  },
  {
   "cell_type": "code",
   "execution_count": 235,
   "metadata": {},
   "outputs": [],
   "source": [
    "test_data['society'] = LabelEncoder().fit_transform(test_data['society'].values)"
   ]
  },
  {
   "cell_type": "code",
   "execution_count": 238,
   "metadata": {},
   "outputs": [],
   "source": [
    "test_data['availability']=test_data.availability.str[:2].apply(ready)"
   ]
  },
  {
   "cell_type": "code",
   "execution_count": 239,
   "metadata": {},
   "outputs": [],
   "source": [
    "test_data['size'] = test_data['size'].str.replace('[^0-9]',' ')"
   ]
  },
  {
   "cell_type": "code",
   "execution_count": 243,
   "metadata": {},
   "outputs": [
    {
     "data": {
      "text/plain": [
       "(1480, 8)"
      ]
     },
     "execution_count": 243,
     "metadata": {},
     "output_type": "execute_result"
    }
   ],
   "source": [
    "test_data.shape"
   ]
  },
  {
   "cell_type": "code",
   "execution_count": 249,
   "metadata": {},
   "outputs": [
    {
     "data": {
      "text/plain": [
       "1200       97\n",
       "1500       33\n",
       "2400       28\n",
       "1000       27\n",
       "600        20\n",
       "1350       19\n",
       "1100       19\n",
       "1150       16\n",
       "1050       14\n",
       "1650       14\n",
       "1400       13\n",
       "2000       12\n",
       "1600       12\n",
       "900        11\n",
       "1225       11\n",
       "1800       10\n",
       "1245        9\n",
       "1080        9\n",
       "950         9\n",
       "1700        9\n",
       "1750        8\n",
       "800         8\n",
       "1250        8\n",
       "1300        8\n",
       "4000        8\n",
       "1610        7\n",
       "1180        7\n",
       "750         7\n",
       "1450        7\n",
       "700         7\n",
       "2200        7\n",
       "2500        7\n",
       "1140        6\n",
       "1230        6\n",
       "1210        6\n",
       "3000        6\n",
       "1170        6\n",
       "1290        6\n",
       "1120        6\n",
       "1580        5\n",
       "1160        5\n",
       "1090        5\n",
       "1105        5\n",
       "1095        5\n",
       "525         5\n",
       "1410        5\n",
       "1560        5\n",
       "1550        5\n",
       "1240        5\n",
       "3500        5\n",
       "1265        5\n",
       "1320        5\n",
       "1345        5\n",
       "1035        4\n",
       "920         4\n",
       "1260        4\n",
       "960         4\n",
       "1130        4\n",
       "1360        4\n",
       "2100        4\n",
       "1275        4\n",
       "1175        4\n",
       "1197        4\n",
       "1285        4\n",
       "1070        4\n",
       "1920        4\n",
       "1305        4\n",
       "1020        4\n",
       "1314        4\n",
       "1280        4\n",
       "1025        4\n",
       "2800        4\n",
       "1205        4\n",
       "1630        4\n",
       "825         4\n",
       "1075        4\n",
       "1215        4\n",
       "1151        3\n",
       "1464        3\n",
       "1385        3\n",
       "1340        3\n",
       "2600        3\n",
       "4500        3\n",
       "1900        3\n",
       "1724        3\n",
       "1420        3\n",
       "1380        3\n",
       "1060        3\n",
       "2818        3\n",
       "1010        3\n",
       "1640        3\n",
       "1190        3\n",
       "845         3\n",
       "1065        3\n",
       "3600        3\n",
       "1890        3\n",
       "2300        3\n",
       "1710        3\n",
       "1220        3\n",
       "2900        3\n",
       "1212        3\n",
       "1128        3\n",
       "1255        3\n",
       "1082        3\n",
       "1185        3\n",
       "1804        3\n",
       "1295        3\n",
       "1717        3\n",
       "1246        3\n",
       "1145        3\n",
       "1303        3\n",
       "1575        3\n",
       "1535        3\n",
       "1697        3\n",
       "985         3\n",
       "1047        3\n",
       "1165        3\n",
       "1007        3\n",
       "1335        3\n",
       "760         3\n",
       "1512        3\n",
       "1485        3\n",
       "1098        3\n",
       "1505        3\n",
       "1564        3\n",
       "1195        3\n",
       "620         3\n",
       "1101        3\n",
       "1530        3\n",
       "1249        3\n",
       "1475        3\n",
       "540         3\n",
       "1304        3\n",
       "1040        2\n",
       "1216        2\n",
       "1330        2\n",
       "3083        2\n",
       "2025        2\n",
       "1386        2\n",
       "970         2\n",
       "1161        2\n",
       "3750        2\n",
       "4395        2\n",
       "630         2\n",
       "1763        2\n",
       "1370        2\n",
       "1680        2\n",
       "1691        2\n",
       "1194        2\n",
       "1523        2\n",
       "1068        2\n",
       "1183        2\n",
       "3650        2\n",
       "2650        2\n",
       "1222        2\n",
       "1477        2\n",
       "1232        2\n",
       "1740        2\n",
       "1902.55     2\n",
       "1055        2\n",
       "1322        2\n",
       "1440        2\n",
       "1252        2\n",
       "1891        2\n",
       "1163        2\n",
       "1698        2\n",
       "1711        2\n",
       "1166        2\n",
       "1241        2\n",
       "1843        2\n",
       "3005        2\n",
       "1565        2\n",
       "1819.18     2\n",
       "1820        2\n",
       "925         2\n",
       "1066        2\n",
       "1924        2\n",
       "1425        2\n",
       "2790        2\n",
       "2119        2\n",
       "1930        2\n",
       "3150        2\n",
       "640         2\n",
       "2439        2\n",
       "3565        2\n",
       "1725        2\n",
       "2700        2\n",
       "1395        2\n",
       "1135        2\n",
       "1893        2\n",
       "1308        2\n",
       "2140        2\n",
       "1353        2\n",
       "1445        2\n",
       "1375        2\n",
       "1730        2\n",
       "1171        2\n",
       "1404        2\n",
       "5000        2\n",
       "1545        2\n",
       "1842        2\n",
       "1168        2\n",
       "1270        2\n",
       "1397        2\n",
       "1950        2\n",
       "1540        2\n",
       "1435        2\n",
       "1199        2\n",
       "1690        2\n",
       "2690        2\n",
       "1460        2\n",
       "1115        2\n",
       "1660        2\n",
       "2250        2\n",
       "1325        2\n",
       "550         2\n",
       "1030        2\n",
       "1735        2\n",
       "1452        2\n",
       "780         2\n",
       "1153        2\n",
       "1390        2\n",
       "1430        2\n",
       "707         1\n",
       "5130        1\n",
       "1076        1\n",
       "1815        1\n",
       "400         1\n",
       "2884        1\n",
       "1685        1\n",
       "2292        1\n",
       "1894        1\n",
       "597         1\n",
       "969         1\n",
       "1664        1\n",
       "3927        1\n",
       "1214        1\n",
       "1094        1\n",
       "1146        1\n",
       "605         1\n",
       "1447        1\n",
       "2438        1\n",
       "732         1\n",
       "1276        1\n",
       "1525        1\n",
       "2171        1\n",
       "2876        1\n",
       "1731        1\n",
       "1762        1\n",
       "1906        1\n",
       "1590        1\n",
       "2345        1\n",
       "2671        1\n",
       "1237        1\n",
       "720         1\n",
       "1483        1\n",
       "785         1\n",
       "823         1\n",
       "1352        1\n",
       "2504        1\n",
       "3238        1\n",
       "2047        1\n",
       "1299        1\n",
       "1094.21     1\n",
       "1293        1\n",
       "1103        1\n",
       "2440        1\n",
       "1087        1\n",
       "1870        1\n",
       "1085        1\n",
       "1367        1\n",
       "990         1\n",
       "978         1\n",
       "1347        1\n",
       "1789        1\n",
       "570         1\n",
       "1755        1\n",
       "775         1\n",
       "1257        1\n",
       "2938        1\n",
       "1298        1\n",
       "5120        1\n",
       "957         1\n",
       "1355        1\n",
       "1745        1\n",
       "992         1\n",
       "1164        1\n",
       "2640        1\n",
       "1310        1\n",
       "1659        1\n",
       "2247        1\n",
       "1611        1\n",
       "2424        1\n",
       "1296        1\n",
       "1444        1\n",
       "1086        1\n",
       "1853        1\n",
       "1235        1\n",
       "1779        1\n",
       "300         1\n",
       "984         1\n",
       "1208        1\n",
       "2190        1\n",
       "1377        1\n",
       "1809        1\n",
       "1974        1\n",
       "459         1\n",
       "2830        1\n",
       "1775        1\n",
       "1071        1\n",
       "1547        1\n",
       "2437        1\n",
       "2695        1\n",
       "1874        1\n",
       "2261        1\n",
       "1244        1\n",
       "545         1\n",
       "778         1\n",
       "1910        1\n",
       "3335        1\n",
       "661         1\n",
       "1566        1\n",
       "4930        1\n",
       "2134        1\n",
       "3321        1\n",
       "1149        1\n",
       "926         1\n",
       "1682        1\n",
       "5540        1\n",
       "1210        1\n",
       "1328        1\n",
       "2050        1\n",
       "3395        1\n",
       "1175        1\n",
       "754         1\n",
       "1110        1\n",
       "890         1\n",
       "650         1\n",
       "1791        1\n",
       "1108        1\n",
       "1984        1\n",
       "2030        1\n",
       "1195        1\n",
       "2159        1\n",
       "2340        1\n",
       "868         1\n",
       "1662        1\n",
       "1608        1\n",
       "3485        1\n",
       "625         1\n",
       "2556        1\n",
       "2526        1\n",
       "745         1\n",
       "1058        1\n",
       "3122        1\n",
       "1159        1\n",
       "1354        1\n",
       "3383        1\n",
       "1770        1\n",
       "3075        1\n",
       "1022        1\n",
       "1824        1\n",
       "2850        1\n",
       "1860        1\n",
       "1620        1\n",
       "1371        1\n",
       "3450        1\n",
       "2132        1\n",
       "914         1\n",
       "5400        1\n",
       "635         1\n",
       "3124        1\n",
       "1908        1\n",
       "937         1\n",
       "1609        1\n",
       "1582        1\n",
       "882         1\n",
       "2280        1\n",
       "2254        1\n",
       "1373        1\n",
       "1362        1\n",
       "1667        1\n",
       "1268        1\n",
       "1364        1\n",
       "2656        1\n",
       "2495        1\n",
       "2041        1\n",
       "1157        1\n",
       "1365        1\n",
       "656         1\n",
       "1277        1\n",
       "1589        1\n",
       "604         1\n",
       "1740.91     1\n",
       "933         1\n",
       "374         1\n",
       "1294        1\n",
       "1960        1\n",
       "1133        1\n",
       "1262        1\n",
       "1868        1\n",
       "1470        1\n",
       "1760        1\n",
       "2856        1\n",
       "4150        1\n",
       "3260        1\n",
       "1511        1\n",
       "3677        1\n",
       "1271        1\n",
       "1152        1\n",
       "1323        1\n",
       "3526        1\n",
       "675         1\n",
       "955         1\n",
       "1736        1\n",
       "1056        1\n",
       "1498        1\n",
       "2145        1\n",
       "870         1\n",
       "5060        1\n",
       "1522.5      1\n",
       "1982        1\n",
       "1562        1\n",
       "1888        1\n",
       "1339        1\n",
       "1790        1\n",
       "3144        1\n",
       "1313        1\n",
       "1273        1\n",
       "1301        1\n",
       "1594.98     1\n",
       "975         1\n",
       "3616        1\n",
       "1671        1\n",
       "638         1\n",
       "1406        1\n",
       "1490        1\n",
       "1333        1\n",
       "1398        1\n",
       "8000        1\n",
       "2954        1\n",
       "1448        1\n",
       "843         1\n",
       "1297        1\n",
       "663         1\n",
       "1032        1\n",
       "864         1\n",
       "1009        1\n",
       "1092        1\n",
       "904         1\n",
       "2300        1\n",
       "1521        1\n",
       "3436        1\n",
       "767         1\n",
       "1501        1\n",
       "3210        1\n",
       "1588        1\n",
       "1741        1\n",
       "435         1\n",
       "2163        1\n",
       "1109        1\n",
       "1349        1\n",
       "1645        1\n",
       "1836        1\n",
       "470         1\n",
       "781         1\n",
       "810         1\n",
       "2524        1\n",
       "2091        1\n",
       "2955        1\n",
       "1204        1\n",
       "1184        1\n",
       "2178        1\n",
       "929         1\n",
       "1291        1\n",
       "3375        1\n",
       "934         1\n",
       "695         1\n",
       "1881        1\n",
       "2555        1\n",
       "1802        1\n",
       "1935        1\n",
       "2404        1\n",
       "2666        1\n",
       "996         1\n",
       "1561        1\n",
       "1586        1\n",
       "2735        1\n",
       "1211        1\n",
       "1307        1\n",
       "1917        1\n",
       "2425        1\n",
       "1999        1\n",
       "736         1\n",
       "1878        1\n",
       "755         1\n",
       "405         1\n",
       "1238        1\n",
       "1692        1\n",
       "3400        1\n",
       "4730        1\n",
       "460         1\n",
       "1218        1\n",
       "2150        1\n",
       "3367        1\n",
       "1121        1\n",
       "1907        1\n",
       "2996        1\n",
       "1156        1\n",
       "1788        1\n",
       "1063        1\n",
       "905         1\n",
       "3054        1\n",
       "3895        1\n",
       "1612        1\n",
       "765         1\n",
       "1655        1\n",
       "1930        1\n",
       "1209        1\n",
       "2082        1\n",
       "941         1\n",
       "1769        1\n",
       "1381        1\n",
       "1532        1\n",
       "1239        1\n",
       "560         1\n",
       "1012        1\n",
       "1143        1\n",
       "1017        1\n",
       "2558        1\n",
       "3440        1\n",
       "217800      1\n",
       "709         1\n",
       "1096        1\n",
       "2290        1\n",
       "1510        1\n",
       "2569        1\n",
       "901         1\n",
       "1196        1\n",
       "940         1\n",
       "1595        1\n",
       "1079        1\n",
       "909         1\n",
       "2660        1\n",
       "1118        1\n",
       "4250        1\n",
       "5149        1\n",
       "1341        1\n",
       "1289        1\n",
       "805         1\n",
       "1207        1\n",
       "1149.91     1\n",
       "3070        1\n",
       "1865        1\n",
       "2215        1\n",
       "3630        1\n",
       "1342        1\n",
       "750         1\n",
       "880         1\n",
       "1348        1\n",
       "4239        1\n",
       "1124        1\n",
       "1343        1\n",
       "492         1\n",
       "552         1\n",
       "2465        1\n",
       "830         1\n",
       "2630        1\n",
       "1449        1\n",
       "1846        1\n",
       "1546        1\n",
       "2259        1\n",
       "1029        1\n",
       "1198        1\n",
       "2475        1\n",
       "6369        1\n",
       "4600        1\n",
       "1229        1\n",
       "3385        1\n",
       "1615        1\n",
       "1507        1\n",
       "5576        1\n",
       "40          1\n",
       "2116        1\n",
       "1125        1\n",
       "1278        1\n",
       "1334        1\n",
       "1015        1\n",
       "1368        1\n",
       "1013        1\n",
       "939         1\n",
       "1990        1\n",
       "3200        1\n",
       "1269        1\n",
       "1174        1\n",
       "6750        1\n",
       "1606        1\n",
       "806         1\n",
       "1777.26     1\n",
       "1016        1\n",
       "2572        1\n",
       "6700        1\n",
       "1520        1\n",
       "664         1\n",
       "2870        1\n",
       "648         1\n",
       "1480        1\n",
       "1832        1\n",
       "2059        1\n",
       "1061        1\n",
       "2160        1\n",
       "2992        1\n",
       "2485        1\n",
       "480         1\n",
       "1073        1\n",
       "1915        1\n",
       "850         1\n",
       "883         1\n",
       "675         1\n",
       "1652        1\n",
       "1021        1\n",
       "861         1\n",
       "580         1\n",
       "1309        1\n",
       "1393        1\n",
       "1478        1\n",
       "1346        1\n",
       "2767        1\n",
       "3009        1\n",
       "1491        1\n",
       "1527        1\n",
       "648         1\n",
       "1005        1\n",
       "993         1\n",
       "450         1\n",
       "2476        1\n",
       "995         1\n",
       "935         1\n",
       "1752.12     1\n",
       "660         1\n",
       "2321        1\n",
       "2550        1\n",
       "1569        1\n",
       "1600        1\n",
       "770         1\n",
       "1443        1\n",
       "965         1\n",
       "5407        1\n",
       "1703        1\n",
       "2289        1\n",
       "1263        1\n",
       "336         1\n",
       "1456        1\n",
       "2750        1\n",
       "958         1\n",
       "3930        1\n",
       "3004        1\n",
       "793         1\n",
       "3553        1\n",
       "1169        1\n",
       "2388        1\n",
       "790         1\n",
       "2732        1\n",
       "1076        1\n",
       "1513        1\n",
       "1389        1\n",
       "Name: total_sqft, dtype: int64"
      ]
     },
     "execution_count": 249,
     "metadata": {},
     "output_type": "execute_result"
    }
   ],
   "source": [
    "test_data['total_sqft'].value_counts()"
   ]
  },
  {
   "cell_type": "code",
   "execution_count": 248,
   "metadata": {},
   "outputs": [],
   "source": [
    "test_data['total_sqft'] = test_data['total_sqft'].replace({'534 - 763':648,'1741 - 2074':1907,'1892 - 2798':2345,'530 - 575':552,\n",
    "                                                          '1160 - 1260':1210,'475 - 1058.27':767,'1200 - 2000':1600,'2563 - 3914':3238,\n",
    "                                                          '600 - 4000':2300,'524 - 894':709,'660 - 690':675,'100Sq. Meter':1076,'2830 - 2882':2856,\n",
    "                                                          '1152 - 1197':1175,'700 - 800':750,'5Acres':217800,'1498 - 1523':1510,'1975 - 2289':2132,\n",
    "                                                          '3307 - 3464':3385,'1691 - 2170':1930,'2695 - 2940':2818,'1165 - 1225':1195})"
   ]
  },
  {
   "cell_type": "code",
   "execution_count": 255,
   "metadata": {},
   "outputs": [],
   "source": [
    "test_data['total_sqft'] = test_data['total_sqft'].astype(float)"
   ]
  },
  {
   "cell_type": "code",
   "execution_count": 259,
   "metadata": {},
   "outputs": [
    {
     "data": {
      "image/png": "[encoded data removed]",
      "text/plain": [
       "<Figure size 432x288 with 1 Axes>"
      ]
     },
     "metadata": {
      "needs_background": "light"
     },
     "output_type": "display_data"
    }
   ],
   "source": [
    "plt.boxplot(test_data['total_sqft'])\n",
    "plt.show()"
   ]
  },
  {
   "cell_type": "code",
   "execution_count": 258,
   "metadata": {},
   "outputs": [],
   "source": [
    "test_data['total_sqft'] = test_data['total_sqft'].clip_upper(test_data['total_sqft'].quantile(0.90))\n",
    "test_data['total_sqft'] = test_data['total_sqft'].clip_lower(test_data['total_sqft'].quantile(.1))"
   ]
  },
  {
   "cell_type": "code",
   "execution_count": 265,
   "metadata": {},
   "outputs": [
    {
     "data": {
      "text/plain": [
       "area_type         int64\n",
       "availability      int64\n",
       "location          int64\n",
       "size            float64\n",
       "society           int64\n",
       "total_sqft      float64\n",
       "bath            float64\n",
       "balcony         float64\n",
       "dtype: object"
      ]
     },
     "execution_count": 265,
     "metadata": {},
     "output_type": "execute_result"
    }
   ],
   "source": [
    "test_data.dtypes"
   ]
  },
  {
   "cell_type": "code",
   "execution_count": 264,
   "metadata": {},
   "outputs": [],
   "source": [
    "test_data['size'] = test_data['size'].astype(float)"
   ]
  },
  {
   "cell_type": "code",
   "execution_count": 266,
   "metadata": {},
   "outputs": [
    {
     "data": {
      "text/html": [
       "<div>\n",
       "<style scoped>\n",
       "    .dataframe tbody tr th:only-of-type {\n",
       "        vertical-align: middle;\n",
       "    }\n",
       "\n",
       "    .dataframe tbody tr th {\n",
       "        vertical-align: top;\n",
       "    }\n",
       "\n",
       "    .dataframe thead th {\n",
       "        text-align: right;\n",
       "    }\n",
       "</style>\n",
       "<table border=\"1\" class=\"dataframe\">\n",
       "  <thead>\n",
       "    <tr style=\"text-align: right;\">\n",
       "      <th></th>\n",
       "      <th>area_type</th>\n",
       "      <th>availability</th>\n",
       "      <th>location</th>\n",
       "      <th>size</th>\n",
       "      <th>society</th>\n",
       "      <th>total_sqft</th>\n",
       "      <th>bath</th>\n",
       "      <th>balcony</th>\n",
       "    </tr>\n",
       "  </thead>\n",
       "  <tbody>\n",
       "    <tr>\n",
       "      <th>0</th>\n",
       "      <td>1</td>\n",
       "      <td>11</td>\n",
       "      <td>95</td>\n",
       "      <td>2.0</td>\n",
       "      <td>404</td>\n",
       "      <td>1225.0</td>\n",
       "      <td>2.0</td>\n",
       "      <td>2.0</td>\n",
       "    </tr>\n",
       "    <tr>\n",
       "      <th>1</th>\n",
       "      <td>3</td>\n",
       "      <td>11</td>\n",
       "      <td>30</td>\n",
       "      <td>9.0</td>\n",
       "      <td>404</td>\n",
       "      <td>2400.0</td>\n",
       "      <td>9.0</td>\n",
       "      <td>2.0</td>\n",
       "    </tr>\n",
       "  </tbody>\n",
       "</table>\n",
       "</div>"
      ],
      "text/plain": [
       "   area_type  availability  location  size  society  total_sqft  bath  balcony\n",
       "0          1            11        95   2.0      404      1225.0   2.0      2.0\n",
       "1          3            11        30   9.0      404      2400.0   9.0      2.0"
      ]
     },
     "execution_count": 266,
     "metadata": {},
     "output_type": "execute_result"
    }
   ],
   "source": [
    "test_data.head(2)"
   ]
  },
  {
   "cell_type": "code",
   "execution_count": 282,
   "metadata": {},
   "outputs": [
    {
     "data": {
      "text/plain": [
       "area_type       0\n",
       "availability    0\n",
       "location        0\n",
       "size            0\n",
       "society         0\n",
       "total_sqft      0\n",
       "bath            0\n",
       "balcony         0\n",
       "dtype: int64"
      ]
     },
     "execution_count": 282,
     "metadata": {},
     "output_type": "execute_result"
    }
   ],
   "source": [
    "test_data.isnull().sum()"
   ]
  },
  {
   "cell_type": "code",
   "execution_count": 283,
   "metadata": {},
   "outputs": [
    {
     "data": {
      "text/plain": [
       "array([ 58.12430612, 493.29255364, 300.05551891,  61.88102699,\n",
       "        51.81509152])"
      ]
     },
     "execution_count": 283,
     "metadata": {},
     "output_type": "execute_result"
    }
   ],
   "source": [
    "gr1_model = GradientBoostingRegressor(n_estimators=500,min_samples_split=10,max_depth=5,loss='huber')\n",
    "gr1_model.fit(train_x,train_y)\n",
    "\n",
    "gr1_pred = gr1_model.predict(test_data)\n",
    "gr1_pred[:5]"
   ]
  },
  {
   "cell_type": "code",
   "execution_count": 284,
   "metadata": {},
   "outputs": [],
   "source": [
    "answer=pd.DataFrame(gr1_pred)"
   ]
  },
  {
   "cell_type": "code",
   "execution_count": 286,
   "metadata": {},
   "outputs": [],
   "source": [
    "answer=answer.rename(columns={0:'price'})"
   ]
  },
  {
   "cell_type": "code",
   "execution_count": 287,
   "metadata": {},
   "outputs": [
    {
     "data": {
      "text/html": [
       "<div>\n",
       "<style scoped>\n",
       "    .dataframe tbody tr th:only-of-type {\n",
       "        vertical-align: middle;\n",
       "    }\n",
       "\n",
       "    .dataframe tbody tr th {\n",
       "        vertical-align: top;\n",
       "    }\n",
       "\n",
       "    .dataframe thead th {\n",
       "        text-align: right;\n",
       "    }\n",
       "</style>\n",
       "<table border=\"1\" class=\"dataframe\">\n",
       "  <thead>\n",
       "    <tr style=\"text-align: right;\">\n",
       "      <th></th>\n",
       "      <th>price</th>\n",
       "    </tr>\n",
       "  </thead>\n",
       "  <tbody>\n",
       "    <tr>\n",
       "      <th>0</th>\n",
       "      <td>58.124306</td>\n",
       "    </tr>\n",
       "    <tr>\n",
       "      <th>1</th>\n",
       "      <td>493.292554</td>\n",
       "    </tr>\n",
       "    <tr>\n",
       "      <th>2</th>\n",
       "      <td>300.055519</td>\n",
       "    </tr>\n",
       "    <tr>\n",
       "      <th>3</th>\n",
       "      <td>61.881027</td>\n",
       "    </tr>\n",
       "    <tr>\n",
       "      <th>4</th>\n",
       "      <td>51.815092</td>\n",
       "    </tr>\n",
       "  </tbody>\n",
       "</table>\n",
       "</div>"
      ],
      "text/plain": [
       "        price\n",
       "0   58.124306\n",
       "1  493.292554\n",
       "2  300.055519\n",
       "3   61.881027\n",
       "4   51.815092"
      ]
     },
     "execution_count": 287,
     "metadata": {},
     "output_type": "execute_result"
    }
   ],
   "source": [
    "answer.head()"
   ]
  },
  {
   "cell_type": "code",
   "execution_count": 289,
   "metadata": {},
   "outputs": [
    {
     "name": "stdout",
     "output_type": "stream",
     "text": [
      "Requirement already satisfied: XlsxWriter in c:\\users\\dhiru\\anaconda3\\lib\\site-packages (1.1.0)\n"
     ]
    }
   ],
   "source": [
    "!pip install XlsxWriter\n"
   ]
  },
  {
   "cell_type": "code",
   "execution_count": 290,
   "metadata": {},
   "outputs": [],
   "source": [
    "writer = pd.ExcelWriter('example.xlsx', engine='xlsxwriter')\n"
   ]
  },
  {
   "cell_type": "code",
   "execution_count": 291,
   "metadata": {},
   "outputs": [],
   "source": [
    "answer.to_excel(writer, 'Sheet1')\n"
   ]
  },
  {
   "cell_type": "code",
   "execution_count": 292,
   "metadata": {},
   "outputs": [],
   "source": [
    "writer.save()"
   ]
  },
  {
   "cell_type": "code",
   "execution_count": null,
   "metadata": {},
   "outputs": [],
   "source": []
  }
 ],
 "metadata": {
  "kernelspec": {
   "display_name": "Python 3",
   "language": "python",
   "name": "python3"
  },
  "language_info": {
   "codemirror_mode": {
    "name": "ipython",
    "version": 3
   },
   "file_extension": ".py",
   "mimetype": "text/x-python",
   "name": "python",
   "nbconvert_exporter": "python",
   "pygments_lexer": "ipython3",
   "version": "3.7.0"
  }
 },
 "nbformat": 4,
 "nbformat_minor": 2
}
